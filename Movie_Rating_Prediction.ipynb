{
 "cells": [
  {
   "cell_type": "markdown",
   "id": "86090047",
   "metadata": {},
   "source": [
    "# Task 2 : Movie_Rating_Prediction"
   ]
  },
  {
   "cell_type": "markdown",
   "id": "0cf904cd",
   "metadata": {},
   "source": [
    "Name : Arya Rajendra Bagde\n",
    "\n",
    "Batch : April-2024\n",
    "\n",
    "Domain : Data Science"
   ]
  },
  {
   "cell_type": "markdown",
   "id": "acc0704f",
   "metadata": {},
   "source": [
    "# Importing Important Libraries"
   ]
  },
  {
   "cell_type": "code",
   "execution_count": 56,
   "id": "f7b502fb",
   "metadata": {},
   "outputs": [],
   "source": [
    "import numpy as np\n",
    "import pandas as pd\n",
    "import matplotlib.pyplot as plt\n",
    "import seaborn as sns"
   ]
  },
  {
   "cell_type": "markdown",
   "id": "1c8d1416",
   "metadata": {},
   "source": [
    "# Importing Movies Dataset "
   ]
  },
  {
   "cell_type": "code",
   "execution_count": 57,
   "id": "63912bc8",
   "metadata": {},
   "outputs": [
    {
     "data": {
      "text/html": [
       "<div>\n",
       "<style scoped>\n",
       "    .dataframe tbody tr th:only-of-type {\n",
       "        vertical-align: middle;\n",
       "    }\n",
       "\n",
       "    .dataframe tbody tr th {\n",
       "        vertical-align: top;\n",
       "    }\n",
       "\n",
       "    .dataframe thead th {\n",
       "        text-align: right;\n",
       "    }\n",
       "</style>\n",
       "<table border=\"1\" class=\"dataframe\">\n",
       "  <thead>\n",
       "    <tr style=\"text-align: right;\">\n",
       "      <th></th>\n",
       "      <th>Name</th>\n",
       "      <th>Year</th>\n",
       "      <th>Duration</th>\n",
       "      <th>Genre</th>\n",
       "      <th>Rating</th>\n",
       "      <th>Votes</th>\n",
       "      <th>Director</th>\n",
       "      <th>Actor 1</th>\n",
       "      <th>Actor 2</th>\n",
       "      <th>Actor 3</th>\n",
       "    </tr>\n",
       "  </thead>\n",
       "  <tbody>\n",
       "    <tr>\n",
       "      <th>0</th>\n",
       "      <td></td>\n",
       "      <td>NaN</td>\n",
       "      <td>NaN</td>\n",
       "      <td>Drama</td>\n",
       "      <td>NaN</td>\n",
       "      <td>NaN</td>\n",
       "      <td>J.S. Randhawa</td>\n",
       "      <td>Manmauji</td>\n",
       "      <td>Birbal</td>\n",
       "      <td>Rajendra Bhatia</td>\n",
       "    </tr>\n",
       "    <tr>\n",
       "      <th>1</th>\n",
       "      <td>#Gadhvi (He thought he was Gandhi)</td>\n",
       "      <td>(2019)</td>\n",
       "      <td>109 min</td>\n",
       "      <td>Drama</td>\n",
       "      <td>7.0</td>\n",
       "      <td>8</td>\n",
       "      <td>Gaurav Bakshi</td>\n",
       "      <td>Rasika Dugal</td>\n",
       "      <td>Vivek Ghamande</td>\n",
       "      <td>Arvind Jangid</td>\n",
       "    </tr>\n",
       "    <tr>\n",
       "      <th>2</th>\n",
       "      <td>#Homecoming</td>\n",
       "      <td>(2021)</td>\n",
       "      <td>90 min</td>\n",
       "      <td>Drama, Musical</td>\n",
       "      <td>NaN</td>\n",
       "      <td>NaN</td>\n",
       "      <td>Soumyajit Majumdar</td>\n",
       "      <td>Sayani Gupta</td>\n",
       "      <td>Plabita Borthakur</td>\n",
       "      <td>Roy Angana</td>\n",
       "    </tr>\n",
       "    <tr>\n",
       "      <th>3</th>\n",
       "      <td>#Yaaram</td>\n",
       "      <td>(2019)</td>\n",
       "      <td>110 min</td>\n",
       "      <td>Comedy, Romance</td>\n",
       "      <td>4.4</td>\n",
       "      <td>35</td>\n",
       "      <td>Ovais Khan</td>\n",
       "      <td>Prateik</td>\n",
       "      <td>Ishita Raj</td>\n",
       "      <td>Siddhant Kapoor</td>\n",
       "    </tr>\n",
       "    <tr>\n",
       "      <th>4</th>\n",
       "      <td>...And Once Again</td>\n",
       "      <td>(2010)</td>\n",
       "      <td>105 min</td>\n",
       "      <td>Drama</td>\n",
       "      <td>NaN</td>\n",
       "      <td>NaN</td>\n",
       "      <td>Amol Palekar</td>\n",
       "      <td>Rajat Kapoor</td>\n",
       "      <td>Rituparna Sengupta</td>\n",
       "      <td>Antara Mali</td>\n",
       "    </tr>\n",
       "    <tr>\n",
       "      <th>...</th>\n",
       "      <td>...</td>\n",
       "      <td>...</td>\n",
       "      <td>...</td>\n",
       "      <td>...</td>\n",
       "      <td>...</td>\n",
       "      <td>...</td>\n",
       "      <td>...</td>\n",
       "      <td>...</td>\n",
       "      <td>...</td>\n",
       "      <td>...</td>\n",
       "    </tr>\n",
       "    <tr>\n",
       "      <th>15504</th>\n",
       "      <td>Zulm Ko Jala Doonga</td>\n",
       "      <td>(1988)</td>\n",
       "      <td>NaN</td>\n",
       "      <td>Action</td>\n",
       "      <td>4.6</td>\n",
       "      <td>11</td>\n",
       "      <td>Mahendra Shah</td>\n",
       "      <td>Naseeruddin Shah</td>\n",
       "      <td>Sumeet Saigal</td>\n",
       "      <td>Suparna Anand</td>\n",
       "    </tr>\n",
       "    <tr>\n",
       "      <th>15505</th>\n",
       "      <td>Zulmi</td>\n",
       "      <td>(1999)</td>\n",
       "      <td>129 min</td>\n",
       "      <td>Action, Drama</td>\n",
       "      <td>4.5</td>\n",
       "      <td>655</td>\n",
       "      <td>Kuku Kohli</td>\n",
       "      <td>Akshay Kumar</td>\n",
       "      <td>Twinkle Khanna</td>\n",
       "      <td>Aruna Irani</td>\n",
       "    </tr>\n",
       "    <tr>\n",
       "      <th>15506</th>\n",
       "      <td>Zulmi Raj</td>\n",
       "      <td>(2005)</td>\n",
       "      <td>NaN</td>\n",
       "      <td>Action</td>\n",
       "      <td>NaN</td>\n",
       "      <td>NaN</td>\n",
       "      <td>Kiran Thej</td>\n",
       "      <td>Sangeeta Tiwari</td>\n",
       "      <td>NaN</td>\n",
       "      <td>NaN</td>\n",
       "    </tr>\n",
       "    <tr>\n",
       "      <th>15507</th>\n",
       "      <td>Zulmi Shikari</td>\n",
       "      <td>(1988)</td>\n",
       "      <td>NaN</td>\n",
       "      <td>Action</td>\n",
       "      <td>NaN</td>\n",
       "      <td>NaN</td>\n",
       "      <td>NaN</td>\n",
       "      <td>NaN</td>\n",
       "      <td>NaN</td>\n",
       "      <td>NaN</td>\n",
       "    </tr>\n",
       "    <tr>\n",
       "      <th>15508</th>\n",
       "      <td>Zulm-O-Sitam</td>\n",
       "      <td>(1998)</td>\n",
       "      <td>130 min</td>\n",
       "      <td>Action, Drama</td>\n",
       "      <td>6.2</td>\n",
       "      <td>20</td>\n",
       "      <td>K.C. Bokadia</td>\n",
       "      <td>Dharmendra</td>\n",
       "      <td>Jaya Prada</td>\n",
       "      <td>Arjun Sarja</td>\n",
       "    </tr>\n",
       "  </tbody>\n",
       "</table>\n",
       "<p>15509 rows × 10 columns</p>\n",
       "</div>"
      ],
      "text/plain": [
       "                                     Name    Year Duration            Genre  \\\n",
       "0                                             NaN      NaN            Drama   \n",
       "1      #Gadhvi (He thought he was Gandhi)  (2019)  109 min            Drama   \n",
       "2                             #Homecoming  (2021)   90 min   Drama, Musical   \n",
       "3                                 #Yaaram  (2019)  110 min  Comedy, Romance   \n",
       "4                       ...And Once Again  (2010)  105 min            Drama   \n",
       "...                                   ...     ...      ...              ...   \n",
       "15504                 Zulm Ko Jala Doonga  (1988)      NaN           Action   \n",
       "15505                               Zulmi  (1999)  129 min    Action, Drama   \n",
       "15506                           Zulmi Raj  (2005)      NaN           Action   \n",
       "15507                       Zulmi Shikari  (1988)      NaN           Action   \n",
       "15508                        Zulm-O-Sitam  (1998)  130 min    Action, Drama   \n",
       "\n",
       "       Rating Votes            Director           Actor 1             Actor 2  \\\n",
       "0         NaN   NaN       J.S. Randhawa          Manmauji              Birbal   \n",
       "1         7.0     8       Gaurav Bakshi      Rasika Dugal      Vivek Ghamande   \n",
       "2         NaN   NaN  Soumyajit Majumdar      Sayani Gupta   Plabita Borthakur   \n",
       "3         4.4    35          Ovais Khan           Prateik          Ishita Raj   \n",
       "4         NaN   NaN        Amol Palekar      Rajat Kapoor  Rituparna Sengupta   \n",
       "...       ...   ...                 ...               ...                 ...   \n",
       "15504     4.6    11       Mahendra Shah  Naseeruddin Shah       Sumeet Saigal   \n",
       "15505     4.5   655          Kuku Kohli      Akshay Kumar      Twinkle Khanna   \n",
       "15506     NaN   NaN          Kiran Thej   Sangeeta Tiwari                 NaN   \n",
       "15507     NaN   NaN                 NaN               NaN                 NaN   \n",
       "15508     6.2    20        K.C. Bokadia        Dharmendra          Jaya Prada   \n",
       "\n",
       "               Actor 3  \n",
       "0      Rajendra Bhatia  \n",
       "1        Arvind Jangid  \n",
       "2           Roy Angana  \n",
       "3      Siddhant Kapoor  \n",
       "4          Antara Mali  \n",
       "...                ...  \n",
       "15504    Suparna Anand  \n",
       "15505      Aruna Irani  \n",
       "15506              NaN  \n",
       "15507              NaN  \n",
       "15508      Arjun Sarja  \n",
       "\n",
       "[15509 rows x 10 columns]"
      ]
     },
     "execution_count": 57,
     "metadata": {},
     "output_type": "execute_result"
    }
   ],
   "source": [
    "movie_data = pd.read_csv(\"IMDb Movies India.csv\", encoding=\"latin1\")\n",
    "movie_data    "
   ]
  },
  {
   "cell_type": "code",
   "execution_count": 58,
   "id": "9060411b",
   "metadata": {},
   "outputs": [
    {
     "data": {
      "text/html": [
       "<div>\n",
       "<style scoped>\n",
       "    .dataframe tbody tr th:only-of-type {\n",
       "        vertical-align: middle;\n",
       "    }\n",
       "\n",
       "    .dataframe tbody tr th {\n",
       "        vertical-align: top;\n",
       "    }\n",
       "\n",
       "    .dataframe thead th {\n",
       "        text-align: right;\n",
       "    }\n",
       "</style>\n",
       "<table border=\"1\" class=\"dataframe\">\n",
       "  <thead>\n",
       "    <tr style=\"text-align: right;\">\n",
       "      <th></th>\n",
       "      <th>Name</th>\n",
       "      <th>Year</th>\n",
       "      <th>Duration</th>\n",
       "      <th>Genre</th>\n",
       "      <th>Rating</th>\n",
       "      <th>Votes</th>\n",
       "      <th>Director</th>\n",
       "      <th>Actor 1</th>\n",
       "      <th>Actor 2</th>\n",
       "      <th>Actor 3</th>\n",
       "    </tr>\n",
       "  </thead>\n",
       "  <tbody>\n",
       "    <tr>\n",
       "      <th>0</th>\n",
       "      <td></td>\n",
       "      <td>NaN</td>\n",
       "      <td>NaN</td>\n",
       "      <td>Drama</td>\n",
       "      <td>NaN</td>\n",
       "      <td>NaN</td>\n",
       "      <td>J.S. Randhawa</td>\n",
       "      <td>Manmauji</td>\n",
       "      <td>Birbal</td>\n",
       "      <td>Rajendra Bhatia</td>\n",
       "    </tr>\n",
       "    <tr>\n",
       "      <th>1</th>\n",
       "      <td>#Gadhvi (He thought he was Gandhi)</td>\n",
       "      <td>(2019)</td>\n",
       "      <td>109 min</td>\n",
       "      <td>Drama</td>\n",
       "      <td>7.0</td>\n",
       "      <td>8</td>\n",
       "      <td>Gaurav Bakshi</td>\n",
       "      <td>Rasika Dugal</td>\n",
       "      <td>Vivek Ghamande</td>\n",
       "      <td>Arvind Jangid</td>\n",
       "    </tr>\n",
       "    <tr>\n",
       "      <th>2</th>\n",
       "      <td>#Homecoming</td>\n",
       "      <td>(2021)</td>\n",
       "      <td>90 min</td>\n",
       "      <td>Drama, Musical</td>\n",
       "      <td>NaN</td>\n",
       "      <td>NaN</td>\n",
       "      <td>Soumyajit Majumdar</td>\n",
       "      <td>Sayani Gupta</td>\n",
       "      <td>Plabita Borthakur</td>\n",
       "      <td>Roy Angana</td>\n",
       "    </tr>\n",
       "    <tr>\n",
       "      <th>3</th>\n",
       "      <td>#Yaaram</td>\n",
       "      <td>(2019)</td>\n",
       "      <td>110 min</td>\n",
       "      <td>Comedy, Romance</td>\n",
       "      <td>4.4</td>\n",
       "      <td>35</td>\n",
       "      <td>Ovais Khan</td>\n",
       "      <td>Prateik</td>\n",
       "      <td>Ishita Raj</td>\n",
       "      <td>Siddhant Kapoor</td>\n",
       "    </tr>\n",
       "    <tr>\n",
       "      <th>4</th>\n",
       "      <td>...And Once Again</td>\n",
       "      <td>(2010)</td>\n",
       "      <td>105 min</td>\n",
       "      <td>Drama</td>\n",
       "      <td>NaN</td>\n",
       "      <td>NaN</td>\n",
       "      <td>Amol Palekar</td>\n",
       "      <td>Rajat Kapoor</td>\n",
       "      <td>Rituparna Sengupta</td>\n",
       "      <td>Antara Mali</td>\n",
       "    </tr>\n",
       "  </tbody>\n",
       "</table>\n",
       "</div>"
      ],
      "text/plain": [
       "                                 Name    Year Duration            Genre  \\\n",
       "0                                         NaN      NaN            Drama   \n",
       "1  #Gadhvi (He thought he was Gandhi)  (2019)  109 min            Drama   \n",
       "2                         #Homecoming  (2021)   90 min   Drama, Musical   \n",
       "3                             #Yaaram  (2019)  110 min  Comedy, Romance   \n",
       "4                   ...And Once Again  (2010)  105 min            Drama   \n",
       "\n",
       "   Rating Votes            Director       Actor 1             Actor 2  \\\n",
       "0     NaN   NaN       J.S. Randhawa      Manmauji              Birbal   \n",
       "1     7.0     8       Gaurav Bakshi  Rasika Dugal      Vivek Ghamande   \n",
       "2     NaN   NaN  Soumyajit Majumdar  Sayani Gupta   Plabita Borthakur   \n",
       "3     4.4    35          Ovais Khan       Prateik          Ishita Raj   \n",
       "4     NaN   NaN        Amol Palekar  Rajat Kapoor  Rituparna Sengupta   \n",
       "\n",
       "           Actor 3  \n",
       "0  Rajendra Bhatia  \n",
       "1    Arvind Jangid  \n",
       "2       Roy Angana  \n",
       "3  Siddhant Kapoor  \n",
       "4      Antara Mali  "
      ]
     },
     "execution_count": 58,
     "metadata": {},
     "output_type": "execute_result"
    }
   ],
   "source": [
    "movie_data.head()"
   ]
  },
  {
   "cell_type": "code",
   "execution_count": 59,
   "id": "f8abb113",
   "metadata": {},
   "outputs": [
    {
     "data": {
      "text/html": [
       "<div>\n",
       "<style scoped>\n",
       "    .dataframe tbody tr th:only-of-type {\n",
       "        vertical-align: middle;\n",
       "    }\n",
       "\n",
       "    .dataframe tbody tr th {\n",
       "        vertical-align: top;\n",
       "    }\n",
       "\n",
       "    .dataframe thead th {\n",
       "        text-align: right;\n",
       "    }\n",
       "</style>\n",
       "<table border=\"1\" class=\"dataframe\">\n",
       "  <thead>\n",
       "    <tr style=\"text-align: right;\">\n",
       "      <th></th>\n",
       "      <th>Name</th>\n",
       "      <th>Year</th>\n",
       "      <th>Duration</th>\n",
       "      <th>Genre</th>\n",
       "      <th>Rating</th>\n",
       "      <th>Votes</th>\n",
       "      <th>Director</th>\n",
       "      <th>Actor 1</th>\n",
       "      <th>Actor 2</th>\n",
       "      <th>Actor 3</th>\n",
       "    </tr>\n",
       "  </thead>\n",
       "  <tbody>\n",
       "    <tr>\n",
       "      <th>15504</th>\n",
       "      <td>Zulm Ko Jala Doonga</td>\n",
       "      <td>(1988)</td>\n",
       "      <td>NaN</td>\n",
       "      <td>Action</td>\n",
       "      <td>4.6</td>\n",
       "      <td>11</td>\n",
       "      <td>Mahendra Shah</td>\n",
       "      <td>Naseeruddin Shah</td>\n",
       "      <td>Sumeet Saigal</td>\n",
       "      <td>Suparna Anand</td>\n",
       "    </tr>\n",
       "    <tr>\n",
       "      <th>15505</th>\n",
       "      <td>Zulmi</td>\n",
       "      <td>(1999)</td>\n",
       "      <td>129 min</td>\n",
       "      <td>Action, Drama</td>\n",
       "      <td>4.5</td>\n",
       "      <td>655</td>\n",
       "      <td>Kuku Kohli</td>\n",
       "      <td>Akshay Kumar</td>\n",
       "      <td>Twinkle Khanna</td>\n",
       "      <td>Aruna Irani</td>\n",
       "    </tr>\n",
       "    <tr>\n",
       "      <th>15506</th>\n",
       "      <td>Zulmi Raj</td>\n",
       "      <td>(2005)</td>\n",
       "      <td>NaN</td>\n",
       "      <td>Action</td>\n",
       "      <td>NaN</td>\n",
       "      <td>NaN</td>\n",
       "      <td>Kiran Thej</td>\n",
       "      <td>Sangeeta Tiwari</td>\n",
       "      <td>NaN</td>\n",
       "      <td>NaN</td>\n",
       "    </tr>\n",
       "    <tr>\n",
       "      <th>15507</th>\n",
       "      <td>Zulmi Shikari</td>\n",
       "      <td>(1988)</td>\n",
       "      <td>NaN</td>\n",
       "      <td>Action</td>\n",
       "      <td>NaN</td>\n",
       "      <td>NaN</td>\n",
       "      <td>NaN</td>\n",
       "      <td>NaN</td>\n",
       "      <td>NaN</td>\n",
       "      <td>NaN</td>\n",
       "    </tr>\n",
       "    <tr>\n",
       "      <th>15508</th>\n",
       "      <td>Zulm-O-Sitam</td>\n",
       "      <td>(1998)</td>\n",
       "      <td>130 min</td>\n",
       "      <td>Action, Drama</td>\n",
       "      <td>6.2</td>\n",
       "      <td>20</td>\n",
       "      <td>K.C. Bokadia</td>\n",
       "      <td>Dharmendra</td>\n",
       "      <td>Jaya Prada</td>\n",
       "      <td>Arjun Sarja</td>\n",
       "    </tr>\n",
       "  </tbody>\n",
       "</table>\n",
       "</div>"
      ],
      "text/plain": [
       "                      Name    Year Duration          Genre  Rating Votes  \\\n",
       "15504  Zulm Ko Jala Doonga  (1988)      NaN         Action     4.6    11   \n",
       "15505                Zulmi  (1999)  129 min  Action, Drama     4.5   655   \n",
       "15506            Zulmi Raj  (2005)      NaN         Action     NaN   NaN   \n",
       "15507        Zulmi Shikari  (1988)      NaN         Action     NaN   NaN   \n",
       "15508         Zulm-O-Sitam  (1998)  130 min  Action, Drama     6.2    20   \n",
       "\n",
       "            Director           Actor 1         Actor 2        Actor 3  \n",
       "15504  Mahendra Shah  Naseeruddin Shah   Sumeet Saigal  Suparna Anand  \n",
       "15505     Kuku Kohli      Akshay Kumar  Twinkle Khanna    Aruna Irani  \n",
       "15506     Kiran Thej   Sangeeta Tiwari             NaN            NaN  \n",
       "15507            NaN               NaN             NaN            NaN  \n",
       "15508   K.C. Bokadia        Dharmendra      Jaya Prada    Arjun Sarja  "
      ]
     },
     "execution_count": 59,
     "metadata": {},
     "output_type": "execute_result"
    }
   ],
   "source": [
    "movie_data.tail()"
   ]
  },
  {
   "cell_type": "code",
   "execution_count": 60,
   "id": "cbf9c5f2",
   "metadata": {},
   "outputs": [
    {
     "data": {
      "text/plain": [
       "(15509, 10)"
      ]
     },
     "execution_count": 60,
     "metadata": {},
     "output_type": "execute_result"
    }
   ],
   "source": [
    "movie_data.shape"
   ]
  },
  {
   "cell_type": "code",
   "execution_count": 61,
   "id": "590ab15f",
   "metadata": {},
   "outputs": [
    {
     "name": "stdout",
     "output_type": "stream",
     "text": [
      "<class 'pandas.core.frame.DataFrame'>\n",
      "RangeIndex: 15509 entries, 0 to 15508\n",
      "Data columns (total 10 columns):\n",
      " #   Column    Non-Null Count  Dtype  \n",
      "---  ------    --------------  -----  \n",
      " 0   Name      15509 non-null  object \n",
      " 1   Year      14981 non-null  object \n",
      " 2   Duration  7240 non-null   object \n",
      " 3   Genre     13632 non-null  object \n",
      " 4   Rating    7919 non-null   float64\n",
      " 5   Votes     7920 non-null   object \n",
      " 6   Director  14984 non-null  object \n",
      " 7   Actor 1   13892 non-null  object \n",
      " 8   Actor 2   13125 non-null  object \n",
      " 9   Actor 3   12365 non-null  object \n",
      "dtypes: float64(1), object(9)\n",
      "memory usage: 1.2+ MB\n"
     ]
    }
   ],
   "source": [
    "movie_data.info()"
   ]
  },
  {
   "cell_type": "code",
   "execution_count": 62,
   "id": "911e4266",
   "metadata": {},
   "outputs": [
    {
     "data": {
      "text/html": [
       "<div>\n",
       "<style scoped>\n",
       "    .dataframe tbody tr th:only-of-type {\n",
       "        vertical-align: middle;\n",
       "    }\n",
       "\n",
       "    .dataframe tbody tr th {\n",
       "        vertical-align: top;\n",
       "    }\n",
       "\n",
       "    .dataframe thead th {\n",
       "        text-align: right;\n",
       "    }\n",
       "</style>\n",
       "<table border=\"1\" class=\"dataframe\">\n",
       "  <thead>\n",
       "    <tr style=\"text-align: right;\">\n",
       "      <th></th>\n",
       "      <th>Rating</th>\n",
       "    </tr>\n",
       "  </thead>\n",
       "  <tbody>\n",
       "    <tr>\n",
       "      <th>count</th>\n",
       "      <td>7919.000000</td>\n",
       "    </tr>\n",
       "    <tr>\n",
       "      <th>mean</th>\n",
       "      <td>5.841621</td>\n",
       "    </tr>\n",
       "    <tr>\n",
       "      <th>std</th>\n",
       "      <td>1.381777</td>\n",
       "    </tr>\n",
       "    <tr>\n",
       "      <th>min</th>\n",
       "      <td>1.100000</td>\n",
       "    </tr>\n",
       "    <tr>\n",
       "      <th>25%</th>\n",
       "      <td>4.900000</td>\n",
       "    </tr>\n",
       "    <tr>\n",
       "      <th>50%</th>\n",
       "      <td>6.000000</td>\n",
       "    </tr>\n",
       "    <tr>\n",
       "      <th>75%</th>\n",
       "      <td>6.800000</td>\n",
       "    </tr>\n",
       "    <tr>\n",
       "      <th>max</th>\n",
       "      <td>10.000000</td>\n",
       "    </tr>\n",
       "  </tbody>\n",
       "</table>\n",
       "</div>"
      ],
      "text/plain": [
       "            Rating\n",
       "count  7919.000000\n",
       "mean      5.841621\n",
       "std       1.381777\n",
       "min       1.100000\n",
       "25%       4.900000\n",
       "50%       6.000000\n",
       "75%       6.800000\n",
       "max      10.000000"
      ]
     },
     "execution_count": 62,
     "metadata": {},
     "output_type": "execute_result"
    }
   ],
   "source": [
    "movie_data.describe()"
   ]
  },
  {
   "cell_type": "markdown",
   "id": "65ef43f6",
   "metadata": {},
   "source": [
    "# Now Data Cleaning"
   ]
  },
  {
   "cell_type": "markdown",
   "id": "67594e82",
   "metadata": {},
   "source": [
    "# Checking Null values"
   ]
  },
  {
   "cell_type": "code",
   "execution_count": 63,
   "id": "33c1e9c6",
   "metadata": {},
   "outputs": [
    {
     "data": {
      "text/plain": [
       "Name           0\n",
       "Year         528\n",
       "Duration    8269\n",
       "Genre       1877\n",
       "Rating      7590\n",
       "Votes       7589\n",
       "Director     525\n",
       "Actor 1     1617\n",
       "Actor 2     2384\n",
       "Actor 3     3144\n",
       "dtype: int64"
      ]
     },
     "execution_count": 63,
     "metadata": {},
     "output_type": "execute_result"
    }
   ],
   "source": [
    "movie_data.isnull().sum()"
   ]
  },
  {
   "cell_type": "markdown",
   "id": "9241c766",
   "metadata": {},
   "source": [
    "# Removing the rows that contains NULL values from Rating"
   ]
  },
  {
   "cell_type": "code",
   "execution_count": 64,
   "id": "0a85b6c9",
   "metadata": {},
   "outputs": [],
   "source": [
    "movie_data.dropna(subset=[\"Rating\"], inplace = True)"
   ]
  },
  {
   "cell_type": "code",
   "execution_count": 65,
   "id": "29a6da2b",
   "metadata": {},
   "outputs": [
    {
     "data": {
      "text/plain": [
       "Name           0\n",
       "Year           0\n",
       "Duration    2068\n",
       "Genre        102\n",
       "Rating         0\n",
       "Votes          0\n",
       "Director       5\n",
       "Actor 1      125\n",
       "Actor 2      200\n",
       "Actor 3      292\n",
       "dtype: int64"
      ]
     },
     "execution_count": 65,
     "metadata": {},
     "output_type": "execute_result"
    }
   ],
   "source": [
    "movie_data.isnull().sum()"
   ]
  },
  {
   "cell_type": "markdown",
   "id": "c62dd3be",
   "metadata": {},
   "source": [
    "# Removing the rows that contains NULL values from Actor 1, Actor 2, Actor 3, Director, Genre"
   ]
  },
  {
   "cell_type": "code",
   "execution_count": 66,
   "id": "c6e2a54b",
   "metadata": {},
   "outputs": [],
   "source": [
    "movie_data.dropna(subset=['Actor 1','Actor 2','Actor 3','Director','Genre'],inplace=True)"
   ]
  },
  {
   "cell_type": "code",
   "execution_count": 67,
   "id": "0457d2b6",
   "metadata": {},
   "outputs": [
    {
     "data": {
      "text/plain": [
       "Name           0\n",
       "Year           0\n",
       "Duration    1899\n",
       "Genre          0\n",
       "Rating         0\n",
       "Votes          0\n",
       "Director       0\n",
       "Actor 1        0\n",
       "Actor 2        0\n",
       "Actor 3        0\n",
       "dtype: int64"
      ]
     },
     "execution_count": 67,
     "metadata": {},
     "output_type": "execute_result"
    }
   ],
   "source": [
    "movie_data.isnull().sum()"
   ]
  },
  {
   "cell_type": "code",
   "execution_count": 68,
   "id": "30b4a9f6",
   "metadata": {},
   "outputs": [
    {
     "data": {
      "text/html": [
       "<div>\n",
       "<style scoped>\n",
       "    .dataframe tbody tr th:only-of-type {\n",
       "        vertical-align: middle;\n",
       "    }\n",
       "\n",
       "    .dataframe tbody tr th {\n",
       "        vertical-align: top;\n",
       "    }\n",
       "\n",
       "    .dataframe thead th {\n",
       "        text-align: right;\n",
       "    }\n",
       "</style>\n",
       "<table border=\"1\" class=\"dataframe\">\n",
       "  <thead>\n",
       "    <tr style=\"text-align: right;\">\n",
       "      <th></th>\n",
       "      <th>Name</th>\n",
       "      <th>Year</th>\n",
       "      <th>Duration</th>\n",
       "      <th>Genre</th>\n",
       "      <th>Rating</th>\n",
       "      <th>Votes</th>\n",
       "      <th>Director</th>\n",
       "      <th>Actor 1</th>\n",
       "      <th>Actor 2</th>\n",
       "      <th>Actor 3</th>\n",
       "    </tr>\n",
       "  </thead>\n",
       "  <tbody>\n",
       "    <tr>\n",
       "      <th>1</th>\n",
       "      <td>#Gadhvi (He thought he was Gandhi)</td>\n",
       "      <td>(2019)</td>\n",
       "      <td>109 min</td>\n",
       "      <td>Drama</td>\n",
       "      <td>7.0</td>\n",
       "      <td>8</td>\n",
       "      <td>Gaurav Bakshi</td>\n",
       "      <td>Rasika Dugal</td>\n",
       "      <td>Vivek Ghamande</td>\n",
       "      <td>Arvind Jangid</td>\n",
       "    </tr>\n",
       "    <tr>\n",
       "      <th>3</th>\n",
       "      <td>#Yaaram</td>\n",
       "      <td>(2019)</td>\n",
       "      <td>110 min</td>\n",
       "      <td>Comedy, Romance</td>\n",
       "      <td>4.4</td>\n",
       "      <td>35</td>\n",
       "      <td>Ovais Khan</td>\n",
       "      <td>Prateik</td>\n",
       "      <td>Ishita Raj</td>\n",
       "      <td>Siddhant Kapoor</td>\n",
       "    </tr>\n",
       "    <tr>\n",
       "      <th>5</th>\n",
       "      <td>...Aur Pyaar Ho Gaya</td>\n",
       "      <td>(1997)</td>\n",
       "      <td>147 min</td>\n",
       "      <td>Comedy, Drama, Musical</td>\n",
       "      <td>4.7</td>\n",
       "      <td>827</td>\n",
       "      <td>Rahul Rawail</td>\n",
       "      <td>Bobby Deol</td>\n",
       "      <td>Aishwarya Rai Bachchan</td>\n",
       "      <td>Shammi Kapoor</td>\n",
       "    </tr>\n",
       "    <tr>\n",
       "      <th>6</th>\n",
       "      <td>...Yahaan</td>\n",
       "      <td>(2005)</td>\n",
       "      <td>142 min</td>\n",
       "      <td>Drama, Romance, War</td>\n",
       "      <td>7.4</td>\n",
       "      <td>1,086</td>\n",
       "      <td>Shoojit Sircar</td>\n",
       "      <td>Jimmy Sheirgill</td>\n",
       "      <td>Minissha Lamba</td>\n",
       "      <td>Yashpal Sharma</td>\n",
       "    </tr>\n",
       "    <tr>\n",
       "      <th>8</th>\n",
       "      <td>?: A Question Mark</td>\n",
       "      <td>(2012)</td>\n",
       "      <td>82 min</td>\n",
       "      <td>Horror, Mystery, Thriller</td>\n",
       "      <td>5.6</td>\n",
       "      <td>326</td>\n",
       "      <td>Allyson Patel</td>\n",
       "      <td>Yash Dave</td>\n",
       "      <td>Muntazir Ahmad</td>\n",
       "      <td>Kiran Bhatia</td>\n",
       "    </tr>\n",
       "  </tbody>\n",
       "</table>\n",
       "</div>"
      ],
      "text/plain": [
       "                                 Name    Year Duration  \\\n",
       "1  #Gadhvi (He thought he was Gandhi)  (2019)  109 min   \n",
       "3                             #Yaaram  (2019)  110 min   \n",
       "5                ...Aur Pyaar Ho Gaya  (1997)  147 min   \n",
       "6                           ...Yahaan  (2005)  142 min   \n",
       "8                  ?: A Question Mark  (2012)   82 min   \n",
       "\n",
       "                       Genre  Rating  Votes        Director          Actor 1  \\\n",
       "1                      Drama     7.0      8   Gaurav Bakshi     Rasika Dugal   \n",
       "3            Comedy, Romance     4.4     35      Ovais Khan          Prateik   \n",
       "5     Comedy, Drama, Musical     4.7    827    Rahul Rawail       Bobby Deol   \n",
       "6        Drama, Romance, War     7.4  1,086  Shoojit Sircar  Jimmy Sheirgill   \n",
       "8  Horror, Mystery, Thriller     5.6    326   Allyson Patel        Yash Dave   \n",
       "\n",
       "                  Actor 2          Actor 3  \n",
       "1          Vivek Ghamande    Arvind Jangid  \n",
       "3              Ishita Raj  Siddhant Kapoor  \n",
       "5  Aishwarya Rai Bachchan    Shammi Kapoor  \n",
       "6          Minissha Lamba   Yashpal Sharma  \n",
       "8          Muntazir Ahmad     Kiran Bhatia  "
      ]
     },
     "execution_count": 68,
     "metadata": {},
     "output_type": "execute_result"
    }
   ],
   "source": [
    "movie_data.head()"
   ]
  },
  {
   "cell_type": "markdown",
   "id": "351a8ee5",
   "metadata": {},
   "source": [
    "# Converting votes to integer and remove commas and convert year (2019) to 2019 and remove min from duration columns"
   ]
  },
  {
   "cell_type": "markdown",
   "id": "cc19c8b9",
   "metadata": {},
   "source": [
    "# Converting votes columns"
   ]
  },
  {
   "cell_type": "code",
   "execution_count": 69,
   "id": "a441b397",
   "metadata": {},
   "outputs": [],
   "source": [
    "movie_data['Votes'] = movie_data['Votes'].str.replace(',','').astype(int)"
   ]
  },
  {
   "cell_type": "markdown",
   "id": "b4af5e84",
   "metadata": {},
   "source": [
    "# Converting year columns"
   ]
  },
  {
   "cell_type": "code",
   "execution_count": 70,
   "id": "971e80d4",
   "metadata": {},
   "outputs": [],
   "source": [
    "movie_data['Year'] = movie_data['Year'].str.strip('()').astype(int)"
   ]
  },
  {
   "cell_type": "markdown",
   "id": "417e0237",
   "metadata": {},
   "source": [
    "# Converting duration columns"
   ]
  },
  {
   "cell_type": "code",
   "execution_count": 71,
   "id": "e2034efd",
   "metadata": {},
   "outputs": [],
   "source": [
    "movie_data['Duration'] = movie_data['Duration'].str.strip('min')"
   ]
  },
  {
   "cell_type": "code",
   "execution_count": 72,
   "id": "07a72b53",
   "metadata": {},
   "outputs": [],
   "source": [
    "movie_data['Duration'].fillna(movie_data['Duration'].median(),inplace=True)"
   ]
  },
  {
   "cell_type": "code",
   "execution_count": 73,
   "id": "c2a6d20c",
   "metadata": {},
   "outputs": [
    {
     "data": {
      "text/plain": [
       "Name        0\n",
       "Year        0\n",
       "Duration    0\n",
       "Genre       0\n",
       "Rating      0\n",
       "Votes       0\n",
       "Director    0\n",
       "Actor 1     0\n",
       "Actor 2     0\n",
       "Actor 3     0\n",
       "dtype: int64"
      ]
     },
     "execution_count": 73,
     "metadata": {},
     "output_type": "execute_result"
    }
   ],
   "source": [
    "movie_data.isnull().sum()"
   ]
  },
  {
   "cell_type": "code",
   "execution_count": 74,
   "id": "c646e0dd",
   "metadata": {},
   "outputs": [
    {
     "name": "stdout",
     "output_type": "stream",
     "text": [
      "<class 'pandas.core.frame.DataFrame'>\n",
      "Index: 7558 entries, 1 to 15508\n",
      "Data columns (total 10 columns):\n",
      " #   Column    Non-Null Count  Dtype  \n",
      "---  ------    --------------  -----  \n",
      " 0   Name      7558 non-null   object \n",
      " 1   Year      7558 non-null   int32  \n",
      " 2   Duration  7558 non-null   object \n",
      " 3   Genre     7558 non-null   object \n",
      " 4   Rating    7558 non-null   float64\n",
      " 5   Votes     7558 non-null   int32  \n",
      " 6   Director  7558 non-null   object \n",
      " 7   Actor 1   7558 non-null   object \n",
      " 8   Actor 2   7558 non-null   object \n",
      " 9   Actor 3   7558 non-null   object \n",
      "dtypes: float64(1), int32(2), object(7)\n",
      "memory usage: 590.5+ KB\n"
     ]
    }
   ],
   "source": [
    "movie_data.info()"
   ]
  },
  {
   "cell_type": "code",
   "execution_count": 75,
   "id": "fbdb24c8",
   "metadata": {},
   "outputs": [
    {
     "data": {
      "text/html": [
       "<div>\n",
       "<style scoped>\n",
       "    .dataframe tbody tr th:only-of-type {\n",
       "        vertical-align: middle;\n",
       "    }\n",
       "\n",
       "    .dataframe tbody tr th {\n",
       "        vertical-align: top;\n",
       "    }\n",
       "\n",
       "    .dataframe thead th {\n",
       "        text-align: right;\n",
       "    }\n",
       "</style>\n",
       "<table border=\"1\" class=\"dataframe\">\n",
       "  <thead>\n",
       "    <tr style=\"text-align: right;\">\n",
       "      <th></th>\n",
       "      <th>Name</th>\n",
       "      <th>Year</th>\n",
       "      <th>Duration</th>\n",
       "      <th>Genre</th>\n",
       "      <th>Rating</th>\n",
       "      <th>Votes</th>\n",
       "      <th>Director</th>\n",
       "      <th>Actor 1</th>\n",
       "      <th>Actor 2</th>\n",
       "      <th>Actor 3</th>\n",
       "    </tr>\n",
       "  </thead>\n",
       "  <tbody>\n",
       "    <tr>\n",
       "      <th>1</th>\n",
       "      <td>#Gadhvi (He thought he was Gandhi)</td>\n",
       "      <td>2019</td>\n",
       "      <td>109</td>\n",
       "      <td>Drama</td>\n",
       "      <td>7.0</td>\n",
       "      <td>8</td>\n",
       "      <td>Gaurav Bakshi</td>\n",
       "      <td>Rasika Dugal</td>\n",
       "      <td>Vivek Ghamande</td>\n",
       "      <td>Arvind Jangid</td>\n",
       "    </tr>\n",
       "    <tr>\n",
       "      <th>3</th>\n",
       "      <td>#Yaaram</td>\n",
       "      <td>2019</td>\n",
       "      <td>110</td>\n",
       "      <td>Comedy, Romance</td>\n",
       "      <td>4.4</td>\n",
       "      <td>35</td>\n",
       "      <td>Ovais Khan</td>\n",
       "      <td>Prateik</td>\n",
       "      <td>Ishita Raj</td>\n",
       "      <td>Siddhant Kapoor</td>\n",
       "    </tr>\n",
       "    <tr>\n",
       "      <th>5</th>\n",
       "      <td>...Aur Pyaar Ho Gaya</td>\n",
       "      <td>1997</td>\n",
       "      <td>147</td>\n",
       "      <td>Comedy, Drama, Musical</td>\n",
       "      <td>4.7</td>\n",
       "      <td>827</td>\n",
       "      <td>Rahul Rawail</td>\n",
       "      <td>Bobby Deol</td>\n",
       "      <td>Aishwarya Rai Bachchan</td>\n",
       "      <td>Shammi Kapoor</td>\n",
       "    </tr>\n",
       "    <tr>\n",
       "      <th>6</th>\n",
       "      <td>...Yahaan</td>\n",
       "      <td>2005</td>\n",
       "      <td>142</td>\n",
       "      <td>Drama, Romance, War</td>\n",
       "      <td>7.4</td>\n",
       "      <td>1086</td>\n",
       "      <td>Shoojit Sircar</td>\n",
       "      <td>Jimmy Sheirgill</td>\n",
       "      <td>Minissha Lamba</td>\n",
       "      <td>Yashpal Sharma</td>\n",
       "    </tr>\n",
       "    <tr>\n",
       "      <th>8</th>\n",
       "      <td>?: A Question Mark</td>\n",
       "      <td>2012</td>\n",
       "      <td>82</td>\n",
       "      <td>Horror, Mystery, Thriller</td>\n",
       "      <td>5.6</td>\n",
       "      <td>326</td>\n",
       "      <td>Allyson Patel</td>\n",
       "      <td>Yash Dave</td>\n",
       "      <td>Muntazir Ahmad</td>\n",
       "      <td>Kiran Bhatia</td>\n",
       "    </tr>\n",
       "  </tbody>\n",
       "</table>\n",
       "</div>"
      ],
      "text/plain": [
       "                                 Name  Year Duration  \\\n",
       "1  #Gadhvi (He thought he was Gandhi)  2019     109    \n",
       "3                             #Yaaram  2019     110    \n",
       "5                ...Aur Pyaar Ho Gaya  1997     147    \n",
       "6                           ...Yahaan  2005     142    \n",
       "8                  ?: A Question Mark  2012      82    \n",
       "\n",
       "                       Genre  Rating  Votes        Director          Actor 1  \\\n",
       "1                      Drama     7.0      8   Gaurav Bakshi     Rasika Dugal   \n",
       "3            Comedy, Romance     4.4     35      Ovais Khan          Prateik   \n",
       "5     Comedy, Drama, Musical     4.7    827    Rahul Rawail       Bobby Deol   \n",
       "6        Drama, Romance, War     7.4   1086  Shoojit Sircar  Jimmy Sheirgill   \n",
       "8  Horror, Mystery, Thriller     5.6    326   Allyson Patel        Yash Dave   \n",
       "\n",
       "                  Actor 2          Actor 3  \n",
       "1          Vivek Ghamande    Arvind Jangid  \n",
       "3              Ishita Raj  Siddhant Kapoor  \n",
       "5  Aishwarya Rai Bachchan    Shammi Kapoor  \n",
       "6          Minissha Lamba   Yashpal Sharma  \n",
       "8          Muntazir Ahmad     Kiran Bhatia  "
      ]
     },
     "execution_count": 75,
     "metadata": {},
     "output_type": "execute_result"
    }
   ],
   "source": [
    "movie_data.head()"
   ]
  },
  {
   "cell_type": "markdown",
   "id": "dbb2b32c",
   "metadata": {},
   "source": [
    "# Data are cleaned and inputed."
   ]
  },
  {
   "cell_type": "markdown",
   "id": "e8e49dcb",
   "metadata": {},
   "source": [
    "# Exploratory Data Analysis (EDA)"
   ]
  },
  {
   "cell_type": "markdown",
   "id": "c65d57a3",
   "metadata": {},
   "source": [
    "# Top 10 Movies : Finding top 10 movies based on rating"
   ]
  },
  {
   "cell_type": "code",
   "execution_count": 76,
   "id": "4fb533bc",
   "metadata": {},
   "outputs": [
    {
     "data": {
      "text/html": [
       "<div>\n",
       "<style scoped>\n",
       "    .dataframe tbody tr th:only-of-type {\n",
       "        vertical-align: middle;\n",
       "    }\n",
       "\n",
       "    .dataframe tbody tr th {\n",
       "        vertical-align: top;\n",
       "    }\n",
       "\n",
       "    .dataframe thead th {\n",
       "        text-align: right;\n",
       "    }\n",
       "</style>\n",
       "<table border=\"1\" class=\"dataframe\">\n",
       "  <thead>\n",
       "    <tr style=\"text-align: right;\">\n",
       "      <th></th>\n",
       "      <th>Name</th>\n",
       "      <th>Year</th>\n",
       "      <th>Duration</th>\n",
       "      <th>Genre</th>\n",
       "      <th>Rating</th>\n",
       "      <th>Votes</th>\n",
       "      <th>Director</th>\n",
       "      <th>Actor 1</th>\n",
       "      <th>Actor 2</th>\n",
       "      <th>Actor 3</th>\n",
       "    </tr>\n",
       "  </thead>\n",
       "  <tbody>\n",
       "    <tr>\n",
       "      <th>8339</th>\n",
       "      <td>Love Qubool Hai</td>\n",
       "      <td>2020</td>\n",
       "      <td>94</td>\n",
       "      <td>Drama, Romance</td>\n",
       "      <td>10.0</td>\n",
       "      <td>5</td>\n",
       "      <td>Saif Ali Sayeed</td>\n",
       "      <td>Ahaan Jha</td>\n",
       "      <td>Mahesh Narayan</td>\n",
       "      <td>Rajasree Rajakumari</td>\n",
       "    </tr>\n",
       "    <tr>\n",
       "      <th>5410</th>\n",
       "      <td>Half Songs</td>\n",
       "      <td>2021</td>\n",
       "      <td>79</td>\n",
       "      <td>Music, Romance</td>\n",
       "      <td>9.7</td>\n",
       "      <td>7</td>\n",
       "      <td>Sriram Raja</td>\n",
       "      <td>Raj Banerjee</td>\n",
       "      <td>Emon Chatterjee</td>\n",
       "      <td>Purshottam Mulani</td>\n",
       "    </tr>\n",
       "    <tr>\n",
       "      <th>2563</th>\n",
       "      <td>Breed</td>\n",
       "      <td>2020</td>\n",
       "      <td>135.0</td>\n",
       "      <td>Drama</td>\n",
       "      <td>9.6</td>\n",
       "      <td>48</td>\n",
       "      <td>Bobby Kumar</td>\n",
       "      <td>Bobby Kumar</td>\n",
       "      <td>Ashfaq</td>\n",
       "      <td>Fasih Choudhry</td>\n",
       "    </tr>\n",
       "    <tr>\n",
       "      <th>14222</th>\n",
       "      <td>The Reluctant Crime</td>\n",
       "      <td>2020</td>\n",
       "      <td>113</td>\n",
       "      <td>Drama</td>\n",
       "      <td>9.4</td>\n",
       "      <td>16</td>\n",
       "      <td>Arvind Pratap</td>\n",
       "      <td>Dharmendra Ahir</td>\n",
       "      <td>Awanish Kotnal</td>\n",
       "      <td>Rakhi Mansha</td>\n",
       "    </tr>\n",
       "    <tr>\n",
       "      <th>5077</th>\n",
       "      <td>Gho Gho Rani</td>\n",
       "      <td>2019</td>\n",
       "      <td>105</td>\n",
       "      <td>History, Romance</td>\n",
       "      <td>9.4</td>\n",
       "      <td>47</td>\n",
       "      <td>Munni Pankaj</td>\n",
       "      <td>Nishi Neha Mishra</td>\n",
       "      <td>Pankaj Kamal</td>\n",
       "      <td>Akash Kumar</td>\n",
       "    </tr>\n",
       "    <tr>\n",
       "      <th>6852</th>\n",
       "      <td>June</td>\n",
       "      <td>2021</td>\n",
       "      <td>93</td>\n",
       "      <td>Drama</td>\n",
       "      <td>9.4</td>\n",
       "      <td>18</td>\n",
       "      <td>Suhrud Godbole</td>\n",
       "      <td>Vaibhav Khisti</td>\n",
       "      <td>Nilesh Divekar</td>\n",
       "      <td>Jitendra Joshi</td>\n",
       "    </tr>\n",
       "    <tr>\n",
       "      <th>12673</th>\n",
       "      <td>Secrets of Sinauli</td>\n",
       "      <td>2021</td>\n",
       "      <td>56</td>\n",
       "      <td>Documentary, History</td>\n",
       "      <td>9.3</td>\n",
       "      <td>1373</td>\n",
       "      <td>Raghav Jairath</td>\n",
       "      <td>Manoj Bajpayee</td>\n",
       "      <td>R.S. Bhist</td>\n",
       "      <td>K.N. Dixit</td>\n",
       "    </tr>\n",
       "    <tr>\n",
       "      <th>5125</th>\n",
       "      <td>God of gods</td>\n",
       "      <td>2019</td>\n",
       "      <td>90</td>\n",
       "      <td>Documentary</td>\n",
       "      <td>9.3</td>\n",
       "      <td>46</td>\n",
       "      <td>Venkatesh Bk</td>\n",
       "      <td>Tejaswini Manogna</td>\n",
       "      <td>Triyug Mantri</td>\n",
       "      <td>Raj Singh Verma</td>\n",
       "    </tr>\n",
       "    <tr>\n",
       "      <th>8344</th>\n",
       "      <td>Love Sorries</td>\n",
       "      <td>2021</td>\n",
       "      <td>101</td>\n",
       "      <td>Comedy, Drama, Romance</td>\n",
       "      <td>9.3</td>\n",
       "      <td>79</td>\n",
       "      <td>Gautam Joshi</td>\n",
       "      <td>Prashant Chaubey</td>\n",
       "      <td>Puneet Chouksey</td>\n",
       "      <td>Amitabh Gupta</td>\n",
       "    </tr>\n",
       "    <tr>\n",
       "      <th>1314</th>\n",
       "      <td>Ashok Vatika</td>\n",
       "      <td>2018</td>\n",
       "      <td>97</td>\n",
       "      <td>Drama</td>\n",
       "      <td>9.3</td>\n",
       "      <td>7</td>\n",
       "      <td>Rahul Mallick</td>\n",
       "      <td>Kunj Anand</td>\n",
       "      <td>Sanjay Bishnoi</td>\n",
       "      <td>Paras Zutshi</td>\n",
       "    </tr>\n",
       "  </tbody>\n",
       "</table>\n",
       "</div>"
      ],
      "text/plain": [
       "                      Name  Year Duration                   Genre  Rating  \\\n",
       "8339       Love Qubool Hai  2020      94           Drama, Romance    10.0   \n",
       "5410            Half Songs  2021      79           Music, Romance     9.7   \n",
       "2563                 Breed  2020    135.0                   Drama     9.6   \n",
       "14222  The Reluctant Crime  2020     113                    Drama     9.4   \n",
       "5077          Gho Gho Rani  2019     105         History, Romance     9.4   \n",
       "6852                  June  2021      93                    Drama     9.4   \n",
       "12673   Secrets of Sinauli  2021      56     Documentary, History     9.3   \n",
       "5125           God of gods  2019      90              Documentary     9.3   \n",
       "8344          Love Sorries  2021     101   Comedy, Drama, Romance     9.3   \n",
       "1314          Ashok Vatika  2018      97                    Drama     9.3   \n",
       "\n",
       "       Votes         Director            Actor 1          Actor 2  \\\n",
       "8339       5  Saif Ali Sayeed          Ahaan Jha   Mahesh Narayan   \n",
       "5410       7      Sriram Raja       Raj Banerjee  Emon Chatterjee   \n",
       "2563      48      Bobby Kumar        Bobby Kumar           Ashfaq   \n",
       "14222     16    Arvind Pratap    Dharmendra Ahir   Awanish Kotnal   \n",
       "5077      47     Munni Pankaj  Nishi Neha Mishra     Pankaj Kamal   \n",
       "6852      18   Suhrud Godbole     Vaibhav Khisti   Nilesh Divekar   \n",
       "12673   1373   Raghav Jairath     Manoj Bajpayee       R.S. Bhist   \n",
       "5125      46     Venkatesh Bk  Tejaswini Manogna    Triyug Mantri   \n",
       "8344      79     Gautam Joshi   Prashant Chaubey  Puneet Chouksey   \n",
       "1314       7    Rahul Mallick         Kunj Anand   Sanjay Bishnoi   \n",
       "\n",
       "                   Actor 3  \n",
       "8339   Rajasree Rajakumari  \n",
       "5410     Purshottam Mulani  \n",
       "2563        Fasih Choudhry  \n",
       "14222         Rakhi Mansha  \n",
       "5077           Akash Kumar  \n",
       "6852        Jitendra Joshi  \n",
       "12673           K.N. Dixit  \n",
       "5125       Raj Singh Verma  \n",
       "8344         Amitabh Gupta  \n",
       "1314          Paras Zutshi  "
      ]
     },
     "execution_count": 76,
     "metadata": {},
     "output_type": "execute_result"
    }
   ],
   "source": [
    "top_movies = movie_data.loc[movie_data['Rating'].sort_values(ascending=False)[:10].index]\n",
    "top_movies"
   ]
  },
  {
   "cell_type": "markdown",
   "id": "38301326",
   "metadata": {},
   "source": [
    "# Distribution of Top 10 movies with respect to Year"
   ]
  },
  {
   "cell_type": "code",
   "execution_count": 77,
   "id": "732c0914",
   "metadata": {},
   "outputs": [
    {
     "name": "stderr",
     "output_type": "stream",
     "text": [
      "C:\\Users\\aryab\\anaconda3\\Lib\\site-packages\\seaborn\\_oldcore.py:1119: FutureWarning: use_inf_as_na option is deprecated and will be removed in a future version. Convert inf values to NaN before operating instead.\n",
      "  with pd.option_context('mode.use_inf_as_na', True):\n"
     ]
    },
    {
     "data": {
      "image/png": "[encoded data removed]",
      "text/plain": [
       "<Figure size 640x480 with 1 Axes>"
      ]
     },
     "metadata": {},
     "output_type": "display_data"
    }
   ],
   "source": [
    "sns.histplot(data=top_movies, x=\"Year\",hue=\"Rating\", multiple=\"stack\")\n",
    "plt.title('Distribution of Top 10 Movies', fontsize=16)\n",
    "plt.xlabel('Year', fontsize=14)\n",
    "plt.ylabel('Rating', fontsize=14)\n",
    "plt.tight_layout()\n",
    "plt.show()"
   ]
  },
  {
   "cell_type": "markdown",
   "id": "0ecb154e",
   "metadata": {},
   "source": [
    "# Distribution of Genre of movies"
   ]
  },
  {
   "cell_type": "code",
   "execution_count": 78,
   "id": "1b6fc56a",
   "metadata": {},
   "outputs": [],
   "source": [
    "genre_counts = movie_data['Genre'].value_counts().reset_index()\n",
    "genre_counts.columns = ['Genre', 'Count']"
   ]
  },
  {
   "cell_type": "markdown",
   "id": "6d20d57c",
   "metadata": {},
   "source": [
    "# Selecting the top N genres (e.g., top 10)"
   ]
  },
  {
   "cell_type": "code",
   "execution_count": 79,
   "id": "f704d056",
   "metadata": {},
   "outputs": [
    {
     "data": {
      "text/html": [
       "<div>\n",
       "<style scoped>\n",
       "    .dataframe tbody tr th:only-of-type {\n",
       "        vertical-align: middle;\n",
       "    }\n",
       "\n",
       "    .dataframe tbody tr th {\n",
       "        vertical-align: top;\n",
       "    }\n",
       "\n",
       "    .dataframe thead th {\n",
       "        text-align: right;\n",
       "    }\n",
       "</style>\n",
       "<table border=\"1\" class=\"dataframe\">\n",
       "  <thead>\n",
       "    <tr style=\"text-align: right;\">\n",
       "      <th></th>\n",
       "      <th>Genre</th>\n",
       "      <th>Count</th>\n",
       "    </tr>\n",
       "  </thead>\n",
       "  <tbody>\n",
       "    <tr>\n",
       "      <th>0</th>\n",
       "      <td>Drama</td>\n",
       "      <td>1137</td>\n",
       "    </tr>\n",
       "    <tr>\n",
       "      <th>1</th>\n",
       "      <td>Drama, Romance</td>\n",
       "      <td>443</td>\n",
       "    </tr>\n",
       "    <tr>\n",
       "      <th>2</th>\n",
       "      <td>Action, Crime, Drama</td>\n",
       "      <td>417</td>\n",
       "    </tr>\n",
       "    <tr>\n",
       "      <th>3</th>\n",
       "      <td>Action</td>\n",
       "      <td>391</td>\n",
       "    </tr>\n",
       "    <tr>\n",
       "      <th>4</th>\n",
       "      <td>Drama, Family</td>\n",
       "      <td>291</td>\n",
       "    </tr>\n",
       "    <tr>\n",
       "      <th>5</th>\n",
       "      <td>Action, Drama</td>\n",
       "      <td>270</td>\n",
       "    </tr>\n",
       "    <tr>\n",
       "      <th>6</th>\n",
       "      <td>Comedy</td>\n",
       "      <td>251</td>\n",
       "    </tr>\n",
       "    <tr>\n",
       "      <th>7</th>\n",
       "      <td>Comedy, Drama</td>\n",
       "      <td>237</td>\n",
       "    </tr>\n",
       "    <tr>\n",
       "      <th>8</th>\n",
       "      <td>Romance</td>\n",
       "      <td>226</td>\n",
       "    </tr>\n",
       "    <tr>\n",
       "      <th>9</th>\n",
       "      <td>Comedy, Drama, Romance</td>\n",
       "      <td>213</td>\n",
       "    </tr>\n",
       "  </tbody>\n",
       "</table>\n",
       "</div>"
      ],
      "text/plain": [
       "                    Genre  Count\n",
       "0                   Drama   1137\n",
       "1          Drama, Romance    443\n",
       "2    Action, Crime, Drama    417\n",
       "3                  Action    391\n",
       "4           Drama, Family    291\n",
       "5           Action, Drama    270\n",
       "6                  Comedy    251\n",
       "7           Comedy, Drama    237\n",
       "8                 Romance    226\n",
       "9  Comedy, Drama, Romance    213"
      ]
     },
     "execution_count": 79,
     "metadata": {},
     "output_type": "execute_result"
    }
   ],
   "source": [
    "top_n_genres = genre_counts.head(10)\n",
    "top_n_genres"
   ]
  },
  {
   "cell_type": "code",
   "execution_count": 80,
   "id": "1e8985a4",
   "metadata": {},
   "outputs": [
    {
     "data": {
      "image/png": "[encoded data removed]",
      "text/plain": [
       "<Figure size 400x400 with 1 Axes>"
      ]
     },
     "metadata": {},
     "output_type": "display_data"
    }
   ],
   "source": [
    "plt.figure(figsize=(4, 4))\n",
    "plt.pie(top_n_genres['Count'], labels=top_n_genres['Genre'], autopct='%1.1f%%', startangle=140, colors=sns.color_palette('pastel'))\n",
    "plt.title('Movie Genre Distribution', fontsize=16)\n",
    "plt.axis('equal')\n",
    "plt.show()"
   ]
  },
  {
   "cell_type": "markdown",
   "id": "a4343a61",
   "metadata": {},
   "source": [
    "# Distribution of Top directors by average rating\n",
    "\n",
    "Group the data by director and calculate the average rating"
   ]
  },
  {
   "cell_type": "code",
   "execution_count": 81,
   "id": "efa5ced5",
   "metadata": {},
   "outputs": [
    {
     "data": {
      "text/html": [
       "<div>\n",
       "<style scoped>\n",
       "    .dataframe tbody tr th:only-of-type {\n",
       "        vertical-align: middle;\n",
       "    }\n",
       "\n",
       "    .dataframe tbody tr th {\n",
       "        vertical-align: top;\n",
       "    }\n",
       "\n",
       "    .dataframe thead th {\n",
       "        text-align: right;\n",
       "    }\n",
       "</style>\n",
       "<table border=\"1\" class=\"dataframe\">\n",
       "  <thead>\n",
       "    <tr style=\"text-align: right;\">\n",
       "      <th></th>\n",
       "      <th>Director</th>\n",
       "      <th>Rating</th>\n",
       "    </tr>\n",
       "  </thead>\n",
       "  <tbody>\n",
       "    <tr>\n",
       "      <th>2243</th>\n",
       "      <td>Saif Ali Sayeed</td>\n",
       "      <td>10.0</td>\n",
       "    </tr>\n",
       "    <tr>\n",
       "      <th>2560</th>\n",
       "      <td>Sriram Raja</td>\n",
       "      <td>9.7</td>\n",
       "    </tr>\n",
       "    <tr>\n",
       "      <th>504</th>\n",
       "      <td>Bobby Kumar</td>\n",
       "      <td>9.6</td>\n",
       "    </tr>\n",
       "    <tr>\n",
       "      <th>322</th>\n",
       "      <td>Arvind Pratap</td>\n",
       "      <td>9.4</td>\n",
       "    </tr>\n",
       "    <tr>\n",
       "      <th>1513</th>\n",
       "      <td>Munni Pankaj</td>\n",
       "      <td>9.4</td>\n",
       "    </tr>\n",
       "    <tr>\n",
       "      <th>2598</th>\n",
       "      <td>Suhrud Godbole</td>\n",
       "      <td>9.4</td>\n",
       "    </tr>\n",
       "    <tr>\n",
       "      <th>1601</th>\n",
       "      <td>Nikhil Mahar</td>\n",
       "      <td>9.3</td>\n",
       "    </tr>\n",
       "    <tr>\n",
       "      <th>2809</th>\n",
       "      <td>Venkatesh Bk</td>\n",
       "      <td>9.3</td>\n",
       "    </tr>\n",
       "    <tr>\n",
       "      <th>1879</th>\n",
       "      <td>Rahul Mallick</td>\n",
       "      <td>9.3</td>\n",
       "    </tr>\n",
       "    <tr>\n",
       "      <th>1864</th>\n",
       "      <td>Raghav Jairath</td>\n",
       "      <td>9.3</td>\n",
       "    </tr>\n",
       "  </tbody>\n",
       "</table>\n",
       "</div>"
      ],
      "text/plain": [
       "             Director  Rating\n",
       "2243  Saif Ali Sayeed    10.0\n",
       "2560      Sriram Raja     9.7\n",
       "504       Bobby Kumar     9.6\n",
       "322     Arvind Pratap     9.4\n",
       "1513     Munni Pankaj     9.4\n",
       "2598   Suhrud Godbole     9.4\n",
       "1601     Nikhil Mahar     9.3\n",
       "2809     Venkatesh Bk     9.3\n",
       "1879    Rahul Mallick     9.3\n",
       "1864   Raghav Jairath     9.3"
      ]
     },
     "execution_count": 81,
     "metadata": {},
     "output_type": "execute_result"
    }
   ],
   "source": [
    "director_avg_rating = movie_data.groupby('Director')['Rating'].mean().reset_index()\n",
    "\n",
    "director_avg_rating = director_avg_rating.sort_values(by='Rating', ascending=False)\n",
    "\n",
    "top_directors = director_avg_rating.head(10)\n",
    "top_directors"
   ]
  },
  {
   "cell_type": "code",
   "execution_count": 82,
   "id": "aae5b18c",
   "metadata": {},
   "outputs": [
    {
     "data": {
      "image/png": "[encoded data removed]",
      "text/plain": [
       "<Figure size 1200x600 with 1 Axes>"
      ]
     },
     "metadata": {},
     "output_type": "display_data"
    }
   ],
   "source": [
    "plt.figure(figsize=(12, 6))\n",
    "sns.barplot(data=top_directors, x='Rating', y='Director', palette='Oranges')\n",
    "\n",
    "plt.title('Top Directors by Average Rating', fontsize=16)\n",
    "plt.xlabel('Average Rating', fontsize=14)\n",
    "plt.ylabel('Director', fontsize=14)\n",
    "\n",
    "plt.show()"
   ]
  },
  {
   "cell_type": "markdown",
   "id": "d7e02400",
   "metadata": {},
   "source": [
    "# Relationship between the number of votes and movie ratings"
   ]
  },
  {
   "cell_type": "code",
   "execution_count": 83,
   "id": "1da873f7",
   "metadata": {},
   "outputs": [
    {
     "name": "stderr",
     "output_type": "stream",
     "text": [
      "C:\\Users\\aryab\\anaconda3\\Lib\\site-packages\\seaborn\\_oldcore.py:1119: FutureWarning: use_inf_as_na option is deprecated and will be removed in a future version. Convert inf values to NaN before operating instead.\n",
      "  with pd.option_context('mode.use_inf_as_na', True):\n",
      "C:\\Users\\aryab\\anaconda3\\Lib\\site-packages\\seaborn\\_oldcore.py:1119: FutureWarning: use_inf_as_na option is deprecated and will be removed in a future version. Convert inf values to NaN before operating instead.\n",
      "  with pd.option_context('mode.use_inf_as_na', True):\n"
     ]
    },
    {
     "data": {
      "image/png": "[encoded data removed]",
      "text/plain": [
       "<Figure size 1200x600 with 1 Axes>"
      ]
     },
     "metadata": {},
     "output_type": "display_data"
    }
   ],
   "source": [
    "plt.figure(figsize=(12, 6))\n",
    "sns.lineplot(data=movie_data, x='Rating', y='Votes')\n",
    "\n",
    "plt.title('Votes vs. Rating', fontsize=16)\n",
    "plt.xlabel('Rating', fontsize=14)\n",
    "plt.ylabel('Votes', fontsize=14)\n",
    "\n",
    "plt.show()"
   ]
  },
  {
   "cell_type": "markdown",
   "id": "69d2514c",
   "metadata": {},
   "source": [
    "# Distribution of top actors by number of movie"
   ]
  },
  {
   "cell_type": "code",
   "execution_count": 84,
   "id": "c6a427b5",
   "metadata": {},
   "outputs": [
    {
     "data": {
      "text/html": [
       "<div>\n",
       "<style scoped>\n",
       "    .dataframe tbody tr th:only-of-type {\n",
       "        vertical-align: middle;\n",
       "    }\n",
       "\n",
       "    .dataframe tbody tr th {\n",
       "        vertical-align: top;\n",
       "    }\n",
       "\n",
       "    .dataframe thead th {\n",
       "        text-align: right;\n",
       "    }\n",
       "</style>\n",
       "<table border=\"1\" class=\"dataframe\">\n",
       "  <thead>\n",
       "    <tr style=\"text-align: right;\">\n",
       "      <th></th>\n",
       "      <th>Actor</th>\n",
       "      <th>MovieCount</th>\n",
       "    </tr>\n",
       "  </thead>\n",
       "  <tbody>\n",
       "    <tr>\n",
       "      <th>0</th>\n",
       "      <td>Jeetendra</td>\n",
       "      <td>140</td>\n",
       "    </tr>\n",
       "    <tr>\n",
       "      <th>1</th>\n",
       "      <td>Dharmendra</td>\n",
       "      <td>134</td>\n",
       "    </tr>\n",
       "    <tr>\n",
       "      <th>2</th>\n",
       "      <td>Mithun Chakraborty</td>\n",
       "      <td>130</td>\n",
       "    </tr>\n",
       "    <tr>\n",
       "      <th>3</th>\n",
       "      <td>Ashok Kumar</td>\n",
       "      <td>125</td>\n",
       "    </tr>\n",
       "    <tr>\n",
       "      <th>4</th>\n",
       "      <td>Rajesh Khanna</td>\n",
       "      <td>118</td>\n",
       "    </tr>\n",
       "    <tr>\n",
       "      <th>5</th>\n",
       "      <td>Amitabh Bachchan</td>\n",
       "      <td>116</td>\n",
       "    </tr>\n",
       "    <tr>\n",
       "      <th>6</th>\n",
       "      <td>Dev Anand</td>\n",
       "      <td>90</td>\n",
       "    </tr>\n",
       "    <tr>\n",
       "      <th>7</th>\n",
       "      <td>Shashi Kapoor</td>\n",
       "      <td>88</td>\n",
       "    </tr>\n",
       "    <tr>\n",
       "      <th>8</th>\n",
       "      <td>Akshay Kumar</td>\n",
       "      <td>82</td>\n",
       "    </tr>\n",
       "    <tr>\n",
       "      <th>9</th>\n",
       "      <td>Sanjay Dutt</td>\n",
       "      <td>73</td>\n",
       "    </tr>\n",
       "  </tbody>\n",
       "</table>\n",
       "</div>"
      ],
      "text/plain": [
       "                Actor  MovieCount\n",
       "0           Jeetendra         140\n",
       "1          Dharmendra         134\n",
       "2  Mithun Chakraborty         130\n",
       "3         Ashok Kumar         125\n",
       "4       Rajesh Khanna         118\n",
       "5    Amitabh Bachchan         116\n",
       "6           Dev Anand          90\n",
       "7       Shashi Kapoor          88\n",
       "8        Akshay Kumar          82\n",
       "9         Sanjay Dutt          73"
      ]
     },
     "execution_count": 84,
     "metadata": {},
     "output_type": "execute_result"
    }
   ],
   "source": [
    "actor_counts = movie_data['Actor 1'].value_counts().reset_index()\n",
    "actor_counts.columns = ['Actor', 'MovieCount']\n",
    "\n",
    "top_n_actors = actor_counts.head(10)\n",
    "top_n_actors"
   ]
  },
  {
   "cell_type": "code",
   "execution_count": 85,
   "id": "b3b6e071",
   "metadata": {},
   "outputs": [
    {
     "data": {
      "image/png": "[encoded data removed]",
      "text/plain": [
       "<Figure size 1200x600 with 1 Axes>"
      ]
     },
     "metadata": {},
     "output_type": "display_data"
    }
   ],
   "source": [
    "plt.figure(figsize=(12, 6))\n",
    "sns.barplot(data=top_n_actors, x='MovieCount', y='Actor', orient='h')\n",
    "\n",
    "plt.title('Top Actors by Number of Movies', fontsize=16)\n",
    "plt.xlabel('Number of Movies', fontsize=14)\n",
    "plt.ylabel('Actor', fontsize=14)\n",
    "\n",
    "plt.show()"
   ]
  },
  {
   "cell_type": "markdown",
   "id": "ff93a6bb",
   "metadata": {},
   "source": [
    "# Distribution of number of movie released every year"
   ]
  },
  {
   "cell_type": "code",
   "execution_count": 86,
   "id": "e55747ad",
   "metadata": {},
   "outputs": [
    {
     "data": {
      "text/html": [
       "<div>\n",
       "<style scoped>\n",
       "    .dataframe tbody tr th:only-of-type {\n",
       "        vertical-align: middle;\n",
       "    }\n",
       "\n",
       "    .dataframe tbody tr th {\n",
       "        vertical-align: top;\n",
       "    }\n",
       "\n",
       "    .dataframe thead th {\n",
       "        text-align: right;\n",
       "    }\n",
       "</style>\n",
       "<table border=\"1\" class=\"dataframe\">\n",
       "  <thead>\n",
       "    <tr style=\"text-align: right;\">\n",
       "      <th></th>\n",
       "      <th>Year</th>\n",
       "      <th>MovieCount</th>\n",
       "    </tr>\n",
       "  </thead>\n",
       "  <tbody>\n",
       "    <tr>\n",
       "      <th>91</th>\n",
       "      <td>1917</td>\n",
       "      <td>1</td>\n",
       "    </tr>\n",
       "    <tr>\n",
       "      <th>88</th>\n",
       "      <td>1931</td>\n",
       "      <td>3</td>\n",
       "    </tr>\n",
       "    <tr>\n",
       "      <th>89</th>\n",
       "      <td>1932</td>\n",
       "      <td>2</td>\n",
       "    </tr>\n",
       "    <tr>\n",
       "      <th>86</th>\n",
       "      <td>1933</td>\n",
       "      <td>4</td>\n",
       "    </tr>\n",
       "    <tr>\n",
       "      <th>90</th>\n",
       "      <td>1934</td>\n",
       "      <td>2</td>\n",
       "    </tr>\n",
       "    <tr>\n",
       "      <th>...</th>\n",
       "      <td>...</td>\n",
       "      <td>...</td>\n",
       "    </tr>\n",
       "    <tr>\n",
       "      <th>1</th>\n",
       "      <td>2017</td>\n",
       "      <td>223</td>\n",
       "    </tr>\n",
       "    <tr>\n",
       "      <th>2</th>\n",
       "      <td>2018</td>\n",
       "      <td>214</td>\n",
       "    </tr>\n",
       "    <tr>\n",
       "      <th>0</th>\n",
       "      <td>2019</td>\n",
       "      <td>238</td>\n",
       "    </tr>\n",
       "    <tr>\n",
       "      <th>9</th>\n",
       "      <td>2020</td>\n",
       "      <td>157</td>\n",
       "    </tr>\n",
       "    <tr>\n",
       "      <th>49</th>\n",
       "      <td>2021</td>\n",
       "      <td>69</td>\n",
       "    </tr>\n",
       "  </tbody>\n",
       "</table>\n",
       "<p>92 rows × 2 columns</p>\n",
       "</div>"
      ],
      "text/plain": [
       "    Year  MovieCount\n",
       "91  1917           1\n",
       "88  1931           3\n",
       "89  1932           2\n",
       "86  1933           4\n",
       "90  1934           2\n",
       "..   ...         ...\n",
       "1   2017         223\n",
       "2   2018         214\n",
       "0   2019         238\n",
       "9   2020         157\n",
       "49  2021          69\n",
       "\n",
       "[92 rows x 2 columns]"
      ]
     },
     "execution_count": 86,
     "metadata": {},
     "output_type": "execute_result"
    }
   ],
   "source": [
    "yearly_movie_counts = movie_data['Year'].value_counts().reset_index()\n",
    "yearly_movie_counts.columns = ['Year', 'MovieCount']\n",
    "\n",
    "yearly_movie_counts = yearly_movie_counts.sort_values(by='Year')\n",
    "yearly_movie_counts"
   ]
  },
  {
   "cell_type": "code",
   "execution_count": 87,
   "id": "86f17db8",
   "metadata": {},
   "outputs": [
    {
     "name": "stderr",
     "output_type": "stream",
     "text": [
      "C:\\Users\\aryab\\anaconda3\\Lib\\site-packages\\seaborn\\_oldcore.py:1119: FutureWarning: use_inf_as_na option is deprecated and will be removed in a future version. Convert inf values to NaN before operating instead.\n",
      "  with pd.option_context('mode.use_inf_as_na', True):\n",
      "C:\\Users\\aryab\\anaconda3\\Lib\\site-packages\\seaborn\\_oldcore.py:1119: FutureWarning: use_inf_as_na option is deprecated and will be removed in a future version. Convert inf values to NaN before operating instead.\n",
      "  with pd.option_context('mode.use_inf_as_na', True):\n"
     ]
    },
    {
     "data": {
      "image/png": "[encoded data removed]",
      "text/plain": [
       "<Figure size 1200x600 with 1 Axes>"
      ]
     },
     "metadata": {},
     "output_type": "display_data"
    }
   ],
   "source": [
    "plt.figure(figsize=(12, 6))\n",
    "sns.lineplot(data=yearly_movie_counts, x='Year', y='MovieCount')\n",
    "\n",
    "plt.title('Number of Movies Released Every Year', fontsize=16)\n",
    "plt.xlabel('Year', fontsize=14)\n",
    "plt.ylabel('Number of Movies Released', fontsize=14)\n",
    "\n",
    "plt.show()"
   ]
  },
  {
   "cell_type": "markdown",
   "id": "8be9b82f",
   "metadata": {},
   "source": [
    "# Distribution of Movies with rating greater than 8 and votes greater than 10000"
   ]
  },
  {
   "cell_type": "code",
   "execution_count": 88,
   "id": "d7345260",
   "metadata": {},
   "outputs": [
    {
     "data": {
      "text/html": [
       "<div>\n",
       "<style scoped>\n",
       "    .dataframe tbody tr th:only-of-type {\n",
       "        vertical-align: middle;\n",
       "    }\n",
       "\n",
       "    .dataframe tbody tr th {\n",
       "        vertical-align: top;\n",
       "    }\n",
       "\n",
       "    .dataframe thead th {\n",
       "        text-align: right;\n",
       "    }\n",
       "</style>\n",
       "<table border=\"1\" class=\"dataframe\">\n",
       "  <thead>\n",
       "    <tr style=\"text-align: right;\">\n",
       "      <th></th>\n",
       "      <th>Name</th>\n",
       "      <th>Year</th>\n",
       "      <th>Duration</th>\n",
       "      <th>Genre</th>\n",
       "      <th>Rating</th>\n",
       "      <th>Votes</th>\n",
       "      <th>Director</th>\n",
       "      <th>Actor 1</th>\n",
       "      <th>Actor 2</th>\n",
       "      <th>Actor 3</th>\n",
       "    </tr>\n",
       "  </thead>\n",
       "  <tbody>\n",
       "    <tr>\n",
       "      <th>75</th>\n",
       "      <td>3 Idiots</td>\n",
       "      <td>2009</td>\n",
       "      <td>170</td>\n",
       "      <td>Comedy, Drama</td>\n",
       "      <td>8.4</td>\n",
       "      <td>357889</td>\n",
       "      <td>Rajkumar Hirani</td>\n",
       "      <td>Aamir Khan</td>\n",
       "      <td>Madhavan</td>\n",
       "      <td>Mona Singh</td>\n",
       "    </tr>\n",
       "    <tr>\n",
       "      <th>173</th>\n",
       "      <td>A Wednesday</td>\n",
       "      <td>2008</td>\n",
       "      <td>104</td>\n",
       "      <td>Action, Crime, Drama</td>\n",
       "      <td>8.1</td>\n",
       "      <td>75118</td>\n",
       "      <td>Neeraj Pandey</td>\n",
       "      <td>Anupam Kher</td>\n",
       "      <td>Naseeruddin Shah</td>\n",
       "      <td>Jimmy Sheirgill</td>\n",
       "    </tr>\n",
       "    <tr>\n",
       "      <th>981</th>\n",
       "      <td>Anand</td>\n",
       "      <td>1971</td>\n",
       "      <td>122</td>\n",
       "      <td>Drama, Musical</td>\n",
       "      <td>8.3</td>\n",
       "      <td>31937</td>\n",
       "      <td>Hrishikesh Mukherjee</td>\n",
       "      <td>Rajesh Khanna</td>\n",
       "      <td>Amitabh Bachchan</td>\n",
       "      <td>Sumita Sanyal</td>\n",
       "    </tr>\n",
       "    <tr>\n",
       "      <th>1009</th>\n",
       "      <td>Andaz Apna Apna</td>\n",
       "      <td>1994</td>\n",
       "      <td>160</td>\n",
       "      <td>Action, Comedy, Romance</td>\n",
       "      <td>8.1</td>\n",
       "      <td>50810</td>\n",
       "      <td>Rajkumar Santoshi</td>\n",
       "      <td>Aamir Khan</td>\n",
       "      <td>Salman Khan</td>\n",
       "      <td>Raveena Tandon</td>\n",
       "    </tr>\n",
       "    <tr>\n",
       "      <th>1019</th>\n",
       "      <td>Andhadhun</td>\n",
       "      <td>2018</td>\n",
       "      <td>139</td>\n",
       "      <td>Crime, Drama, Music</td>\n",
       "      <td>8.2</td>\n",
       "      <td>77901</td>\n",
       "      <td>Sriram Raghavan</td>\n",
       "      <td>Ayushmann Khurrana</td>\n",
       "      <td>Tabu</td>\n",
       "      <td>Radhika Apte</td>\n",
       "    </tr>\n",
       "    <tr>\n",
       "      <th>1285</th>\n",
       "      <td>Article 15</td>\n",
       "      <td>2019</td>\n",
       "      <td>130</td>\n",
       "      <td>Crime, Drama, Mystery</td>\n",
       "      <td>8.2</td>\n",
       "      <td>25706</td>\n",
       "      <td>Anubhav Sinha</td>\n",
       "      <td>Ayushmann Khurrana</td>\n",
       "      <td>Nassar</td>\n",
       "      <td>Manoj Pahwa</td>\n",
       "    </tr>\n",
       "    <tr>\n",
       "      <th>1877</th>\n",
       "      <td>Barfi!</td>\n",
       "      <td>2012</td>\n",
       "      <td>151</td>\n",
       "      <td>Comedy, Drama, Romance</td>\n",
       "      <td>8.1</td>\n",
       "      <td>77377</td>\n",
       "      <td>Anurag Basu</td>\n",
       "      <td>Ranbir Kapoor</td>\n",
       "      <td>Priyanka Chopra Jonas</td>\n",
       "      <td>Ileana D'Cruz</td>\n",
       "    </tr>\n",
       "    <tr>\n",
       "      <th>2065</th>\n",
       "      <td>Bhaag Milkha Bhaag</td>\n",
       "      <td>2013</td>\n",
       "      <td>186</td>\n",
       "      <td>Biography, Drama, Sport</td>\n",
       "      <td>8.2</td>\n",
       "      <td>62636</td>\n",
       "      <td>Rakeysh Omprakash Mehra</td>\n",
       "      <td>Farhan Akhtar</td>\n",
       "      <td>Sonam Kapoor</td>\n",
       "      <td>Pawan Malhotra</td>\n",
       "    </tr>\n",
       "    <tr>\n",
       "      <th>2412</th>\n",
       "      <td>Black</td>\n",
       "      <td>2005</td>\n",
       "      <td>122</td>\n",
       "      <td>Drama</td>\n",
       "      <td>8.2</td>\n",
       "      <td>33782</td>\n",
       "      <td>Sanjay Leela Bhansali</td>\n",
       "      <td>Amitabh Bachchan</td>\n",
       "      <td>Rani Mukerji</td>\n",
       "      <td>Shernaz Patel</td>\n",
       "    </tr>\n",
       "    <tr>\n",
       "      <th>2425</th>\n",
       "      <td>Black Friday</td>\n",
       "      <td>2004</td>\n",
       "      <td>143</td>\n",
       "      <td>Action, Crime, Drama</td>\n",
       "      <td>8.5</td>\n",
       "      <td>19493</td>\n",
       "      <td>Anurag Kashyap</td>\n",
       "      <td>Kay Kay Menon</td>\n",
       "      <td>Pawan Malhotra</td>\n",
       "      <td>Aditya Srivastav</td>\n",
       "    </tr>\n",
       "  </tbody>\n",
       "</table>\n",
       "</div>"
      ],
      "text/plain": [
       "                    Name  Year Duration                    Genre  Rating  \\\n",
       "75              3 Idiots  2009     170             Comedy, Drama     8.4   \n",
       "173          A Wednesday  2008     104      Action, Crime, Drama     8.1   \n",
       "981                Anand  1971     122            Drama, Musical     8.3   \n",
       "1009     Andaz Apna Apna  1994     160   Action, Comedy, Romance     8.1   \n",
       "1019           Andhadhun  2018     139       Crime, Drama, Music     8.2   \n",
       "1285          Article 15  2019     130     Crime, Drama, Mystery     8.2   \n",
       "1877              Barfi!  2012     151    Comedy, Drama, Romance     8.1   \n",
       "2065  Bhaag Milkha Bhaag  2013     186   Biography, Drama, Sport     8.2   \n",
       "2412               Black  2005     122                     Drama     8.2   \n",
       "2425        Black Friday  2004     143      Action, Crime, Drama     8.5   \n",
       "\n",
       "       Votes                 Director             Actor 1  \\\n",
       "75    357889          Rajkumar Hirani          Aamir Khan   \n",
       "173    75118            Neeraj Pandey         Anupam Kher   \n",
       "981    31937     Hrishikesh Mukherjee       Rajesh Khanna   \n",
       "1009   50810        Rajkumar Santoshi          Aamir Khan   \n",
       "1019   77901          Sriram Raghavan  Ayushmann Khurrana   \n",
       "1285   25706            Anubhav Sinha  Ayushmann Khurrana   \n",
       "1877   77377              Anurag Basu       Ranbir Kapoor   \n",
       "2065   62636  Rakeysh Omprakash Mehra       Farhan Akhtar   \n",
       "2412   33782    Sanjay Leela Bhansali    Amitabh Bachchan   \n",
       "2425   19493           Anurag Kashyap       Kay Kay Menon   \n",
       "\n",
       "                    Actor 2           Actor 3  \n",
       "75                 Madhavan        Mona Singh  \n",
       "173        Naseeruddin Shah   Jimmy Sheirgill  \n",
       "981        Amitabh Bachchan     Sumita Sanyal  \n",
       "1009            Salman Khan    Raveena Tandon  \n",
       "1019                   Tabu      Radhika Apte  \n",
       "1285                 Nassar       Manoj Pahwa  \n",
       "1877  Priyanka Chopra Jonas     Ileana D'Cruz  \n",
       "2065           Sonam Kapoor    Pawan Malhotra  \n",
       "2412           Rani Mukerji     Shernaz Patel  \n",
       "2425         Pawan Malhotra  Aditya Srivastav  "
      ]
     },
     "execution_count": 88,
     "metadata": {},
     "output_type": "execute_result"
    }
   ],
   "source": [
    "filtered_df = movie_data[(movie_data['Rating'] > 8) & (movie_data['Votes'] > 10000)]\n",
    "filtered_df.head(10)"
   ]
  },
  {
   "cell_type": "markdown",
   "id": "8cb29531",
   "metadata": {},
   "source": [
    "# Distribution of Durations of movies by years"
   ]
  },
  {
   "cell_type": "code",
   "execution_count": 89,
   "id": "8f279b41",
   "metadata": {},
   "outputs": [],
   "source": [
    "movie_data['Duration'] = movie_data['Duration'].astype(int)\n",
    "movie_data['Year'] = movie_data['Year'].astype(int)"
   ]
  },
  {
   "cell_type": "code",
   "execution_count": 90,
   "id": "f01532db",
   "metadata": {},
   "outputs": [
    {
     "name": "stderr",
     "output_type": "stream",
     "text": [
      "C:\\Users\\aryab\\anaconda3\\Lib\\site-packages\\seaborn\\_oldcore.py:1119: FutureWarning: use_inf_as_na option is deprecated and will be removed in a future version. Convert inf values to NaN before operating instead.\n",
      "  with pd.option_context('mode.use_inf_as_na', True):\n",
      "C:\\Users\\aryab\\anaconda3\\Lib\\site-packages\\seaborn\\_oldcore.py:1119: FutureWarning: use_inf_as_na option is deprecated and will be removed in a future version. Convert inf values to NaN before operating instead.\n",
      "  with pd.option_context('mode.use_inf_as_na', True):\n"
     ]
    },
    {
     "data": {
      "image/png": "[encoded data removed]",
      "text/plain": [
       "<Figure size 1200x600 with 1 Axes>"
      ]
     },
     "metadata": {},
     "output_type": "display_data"
    }
   ],
   "source": [
    "plt.figure(figsize=(12, 6))\n",
    "sns.lineplot(data=movie_data,x='Year',y='Duration',errorbar=None)\n",
    "plt.xlabel('Year')\n",
    "plt.ylabel('Duration in minutes')\n",
    "plt.title('Duration of movies by year')\n",
    "plt.xticks(np.arange(1917,2023,5))\n",
    "plt.show()"
   ]
  },
  {
   "cell_type": "markdown",
   "id": "341ba072",
   "metadata": {},
   "source": [
    "# Distribution of Number of movies each genre"
   ]
  },
  {
   "cell_type": "code",
   "execution_count": 91,
   "id": "8b3bd780",
   "metadata": {},
   "outputs": [
    {
     "data": {
      "text/html": [
       "<div>\n",
       "<style scoped>\n",
       "    .dataframe tbody tr th:only-of-type {\n",
       "        vertical-align: middle;\n",
       "    }\n",
       "\n",
       "    .dataframe tbody tr th {\n",
       "        vertical-align: top;\n",
       "    }\n",
       "\n",
       "    .dataframe thead th {\n",
       "        text-align: right;\n",
       "    }\n",
       "</style>\n",
       "<table border=\"1\" class=\"dataframe\">\n",
       "  <thead>\n",
       "    <tr style=\"text-align: right;\">\n",
       "      <th></th>\n",
       "      <th>Name</th>\n",
       "      <th>Year</th>\n",
       "      <th>Duration</th>\n",
       "      <th>Genre</th>\n",
       "      <th>Rating</th>\n",
       "      <th>Votes</th>\n",
       "      <th>Director</th>\n",
       "      <th>Actor 1</th>\n",
       "      <th>Actor 2</th>\n",
       "      <th>Actor 3</th>\n",
       "    </tr>\n",
       "  </thead>\n",
       "  <tbody>\n",
       "    <tr>\n",
       "      <th>1</th>\n",
       "      <td>#Gadhvi (He thought he was Gandhi)</td>\n",
       "      <td>2019</td>\n",
       "      <td>109</td>\n",
       "      <td>Drama</td>\n",
       "      <td>7.0</td>\n",
       "      <td>8</td>\n",
       "      <td>Gaurav Bakshi</td>\n",
       "      <td>Rasika Dugal</td>\n",
       "      <td>Vivek Ghamande</td>\n",
       "      <td>Arvind Jangid</td>\n",
       "    </tr>\n",
       "    <tr>\n",
       "      <th>3</th>\n",
       "      <td>#Yaaram</td>\n",
       "      <td>2019</td>\n",
       "      <td>110</td>\n",
       "      <td>Comedy</td>\n",
       "      <td>4.4</td>\n",
       "      <td>35</td>\n",
       "      <td>Ovais Khan</td>\n",
       "      <td>Prateik</td>\n",
       "      <td>Ishita Raj</td>\n",
       "      <td>Siddhant Kapoor</td>\n",
       "    </tr>\n",
       "    <tr>\n",
       "      <th>3</th>\n",
       "      <td>#Yaaram</td>\n",
       "      <td>2019</td>\n",
       "      <td>110</td>\n",
       "      <td>Romance</td>\n",
       "      <td>4.4</td>\n",
       "      <td>35</td>\n",
       "      <td>Ovais Khan</td>\n",
       "      <td>Prateik</td>\n",
       "      <td>Ishita Raj</td>\n",
       "      <td>Siddhant Kapoor</td>\n",
       "    </tr>\n",
       "    <tr>\n",
       "      <th>5</th>\n",
       "      <td>...Aur Pyaar Ho Gaya</td>\n",
       "      <td>1997</td>\n",
       "      <td>147</td>\n",
       "      <td>Comedy</td>\n",
       "      <td>4.7</td>\n",
       "      <td>827</td>\n",
       "      <td>Rahul Rawail</td>\n",
       "      <td>Bobby Deol</td>\n",
       "      <td>Aishwarya Rai Bachchan</td>\n",
       "      <td>Shammi Kapoor</td>\n",
       "    </tr>\n",
       "    <tr>\n",
       "      <th>5</th>\n",
       "      <td>...Aur Pyaar Ho Gaya</td>\n",
       "      <td>1997</td>\n",
       "      <td>147</td>\n",
       "      <td>Drama</td>\n",
       "      <td>4.7</td>\n",
       "      <td>827</td>\n",
       "      <td>Rahul Rawail</td>\n",
       "      <td>Bobby Deol</td>\n",
       "      <td>Aishwarya Rai Bachchan</td>\n",
       "      <td>Shammi Kapoor</td>\n",
       "    </tr>\n",
       "    <tr>\n",
       "      <th>...</th>\n",
       "      <td>...</td>\n",
       "      <td>...</td>\n",
       "      <td>...</td>\n",
       "      <td>...</td>\n",
       "      <td>...</td>\n",
       "      <td>...</td>\n",
       "      <td>...</td>\n",
       "      <td>...</td>\n",
       "      <td>...</td>\n",
       "      <td>...</td>\n",
       "    </tr>\n",
       "    <tr>\n",
       "      <th>15504</th>\n",
       "      <td>Zulm Ko Jala Doonga</td>\n",
       "      <td>1988</td>\n",
       "      <td>135</td>\n",
       "      <td>Action</td>\n",
       "      <td>4.6</td>\n",
       "      <td>11</td>\n",
       "      <td>Mahendra Shah</td>\n",
       "      <td>Naseeruddin Shah</td>\n",
       "      <td>Sumeet Saigal</td>\n",
       "      <td>Suparna Anand</td>\n",
       "    </tr>\n",
       "    <tr>\n",
       "      <th>15505</th>\n",
       "      <td>Zulmi</td>\n",
       "      <td>1999</td>\n",
       "      <td>129</td>\n",
       "      <td>Action</td>\n",
       "      <td>4.5</td>\n",
       "      <td>655</td>\n",
       "      <td>Kuku Kohli</td>\n",
       "      <td>Akshay Kumar</td>\n",
       "      <td>Twinkle Khanna</td>\n",
       "      <td>Aruna Irani</td>\n",
       "    </tr>\n",
       "    <tr>\n",
       "      <th>15505</th>\n",
       "      <td>Zulmi</td>\n",
       "      <td>1999</td>\n",
       "      <td>129</td>\n",
       "      <td>Drama</td>\n",
       "      <td>4.5</td>\n",
       "      <td>655</td>\n",
       "      <td>Kuku Kohli</td>\n",
       "      <td>Akshay Kumar</td>\n",
       "      <td>Twinkle Khanna</td>\n",
       "      <td>Aruna Irani</td>\n",
       "    </tr>\n",
       "    <tr>\n",
       "      <th>15508</th>\n",
       "      <td>Zulm-O-Sitam</td>\n",
       "      <td>1998</td>\n",
       "      <td>130</td>\n",
       "      <td>Action</td>\n",
       "      <td>6.2</td>\n",
       "      <td>20</td>\n",
       "      <td>K.C. Bokadia</td>\n",
       "      <td>Dharmendra</td>\n",
       "      <td>Jaya Prada</td>\n",
       "      <td>Arjun Sarja</td>\n",
       "    </tr>\n",
       "    <tr>\n",
       "      <th>15508</th>\n",
       "      <td>Zulm-O-Sitam</td>\n",
       "      <td>1998</td>\n",
       "      <td>130</td>\n",
       "      <td>Drama</td>\n",
       "      <td>6.2</td>\n",
       "      <td>20</td>\n",
       "      <td>K.C. Bokadia</td>\n",
       "      <td>Dharmendra</td>\n",
       "      <td>Jaya Prada</td>\n",
       "      <td>Arjun Sarja</td>\n",
       "    </tr>\n",
       "  </tbody>\n",
       "</table>\n",
       "<p>15380 rows × 10 columns</p>\n",
       "</div>"
      ],
      "text/plain": [
       "                                     Name  Year  Duration     Genre  Rating  \\\n",
       "1      #Gadhvi (He thought he was Gandhi)  2019       109     Drama     7.0   \n",
       "3                                 #Yaaram  2019       110    Comedy     4.4   \n",
       "3                                 #Yaaram  2019       110   Romance     4.4   \n",
       "5                    ...Aur Pyaar Ho Gaya  1997       147    Comedy     4.7   \n",
       "5                    ...Aur Pyaar Ho Gaya  1997       147     Drama     4.7   \n",
       "...                                   ...   ...       ...       ...     ...   \n",
       "15504                 Zulm Ko Jala Doonga  1988       135    Action     4.6   \n",
       "15505                               Zulmi  1999       129    Action     4.5   \n",
       "15505                               Zulmi  1999       129     Drama     4.5   \n",
       "15508                        Zulm-O-Sitam  1998       130    Action     6.2   \n",
       "15508                        Zulm-O-Sitam  1998       130     Drama     6.2   \n",
       "\n",
       "       Votes       Director           Actor 1                 Actor 2  \\\n",
       "1          8  Gaurav Bakshi      Rasika Dugal          Vivek Ghamande   \n",
       "3         35     Ovais Khan           Prateik              Ishita Raj   \n",
       "3         35     Ovais Khan           Prateik              Ishita Raj   \n",
       "5        827   Rahul Rawail        Bobby Deol  Aishwarya Rai Bachchan   \n",
       "5        827   Rahul Rawail        Bobby Deol  Aishwarya Rai Bachchan   \n",
       "...      ...            ...               ...                     ...   \n",
       "15504     11  Mahendra Shah  Naseeruddin Shah           Sumeet Saigal   \n",
       "15505    655     Kuku Kohli      Akshay Kumar          Twinkle Khanna   \n",
       "15505    655     Kuku Kohli      Akshay Kumar          Twinkle Khanna   \n",
       "15508     20   K.C. Bokadia        Dharmendra              Jaya Prada   \n",
       "15508     20   K.C. Bokadia        Dharmendra              Jaya Prada   \n",
       "\n",
       "               Actor 3  \n",
       "1        Arvind Jangid  \n",
       "3      Siddhant Kapoor  \n",
       "3      Siddhant Kapoor  \n",
       "5        Shammi Kapoor  \n",
       "5        Shammi Kapoor  \n",
       "...                ...  \n",
       "15504    Suparna Anand  \n",
       "15505      Aruna Irani  \n",
       "15505      Aruna Irani  \n",
       "15508      Arjun Sarja  \n",
       "15508      Arjun Sarja  \n",
       "\n",
       "[15380 rows x 10 columns]"
      ]
     },
     "execution_count": 91,
     "metadata": {},
     "output_type": "execute_result"
    }
   ],
   "source": [
    "movie_data['Genre'] = movie_data['Genre'].str.split(',')\n",
    "\n",
    "genre = movie_data.explode('Genre')\n",
    "genre"
   ]
  },
  {
   "cell_type": "code",
   "execution_count": 92,
   "id": "9fc6e95c",
   "metadata": {},
   "outputs": [
    {
     "data": {
      "image/png": "[encoded data removed]",
      "text/plain": [
       "<Figure size 1200x600 with 1 Axes>"
      ]
     },
     "metadata": {},
     "output_type": "display_data"
    }
   ],
   "source": [
    "plt.figure(figsize=(12, 6))\n",
    "sns.countplot(data=genre, x='Genre', order=genre['Genre'].value_counts().index, palette='Oranges')\n",
    "\n",
    "plt.title('Number of Movies for Each Genre', fontsize=16)\n",
    "plt.xlabel('Number of Movies', fontsize=14)\n",
    "plt.ylabel('Genre', fontsize=14)\n",
    "plt.xticks(rotation=90)\n",
    "\n",
    "plt.show()"
   ]
  },
  {
   "cell_type": "markdown",
   "id": "49fd4d5c",
   "metadata": {},
   "source": [
    "# Distribution of Average rating of movies in each genre"
   ]
  },
  {
   "cell_type": "code",
   "execution_count": 93,
   "id": "7f063ccc",
   "metadata": {},
   "outputs": [],
   "source": [
    "average_rating_by_genre = genre.groupby('Genre')['Rating'].mean().reset_index()\n",
    "average_rating_by_genre = average_rating_by_genre.sort_values(by='Rating', ascending=False)"
   ]
  },
  {
   "cell_type": "code",
   "execution_count": 94,
   "id": "36ab3472",
   "metadata": {},
   "outputs": [
    {
     "data": {
      "image/png": "[encoded data removed]",
      "text/plain": [
       "<Figure size 1500x500 with 1 Axes>"
      ]
     },
     "metadata": {},
     "output_type": "display_data"
    }
   ],
   "source": [
    "plt.figure(figsize=(15,5))\n",
    "sns.barplot(data=average_rating_by_genre,y=\"Rating\",x='Genre',palette='PRGn')\n",
    "plt.xlabel('Genre')\n",
    "plt.ylabel('Average Rating')\n",
    "plt.title('Average rating of movies in each genre')\n",
    "plt.xticks(rotation=90)\n",
    "\n",
    "plt.show()"
   ]
  },
  {
   "cell_type": "markdown",
   "id": "d4d7d78f",
   "metadata": {},
   "source": [
    "# Use Label Encoder from sklearn library for transforming data into numeric"
   ]
  },
  {
   "cell_type": "code",
   "execution_count": 95,
   "id": "862e3893",
   "metadata": {},
   "outputs": [],
   "source": [
    "from sklearn.preprocessing import LabelEncoder\n",
    "labelencoder = LabelEncoder()\n",
    "transform_data = movie_data.drop(['Name'],axis=1)"
   ]
  },
  {
   "cell_type": "markdown",
   "id": "01e3610d",
   "metadata": {},
   "source": [
    "# Transform Director columns"
   ]
  },
  {
   "cell_type": "code",
   "execution_count": 96,
   "id": "fc776aa4",
   "metadata": {},
   "outputs": [],
   "source": [
    "transform_data['Director'] = labelencoder.fit_transform(movie_data['Director'])"
   ]
  },
  {
   "cell_type": "markdown",
   "id": "2b80d5ad",
   "metadata": {},
   "source": [
    "# Transform Actors Columns"
   ]
  },
  {
   "cell_type": "code",
   "execution_count": 97,
   "id": "33c011d4",
   "metadata": {},
   "outputs": [],
   "source": [
    "transform_data['Actor 1'] = labelencoder.fit_transform(movie_data['Actor 1'])\n",
    "transform_data['Actor 2'] = labelencoder.fit_transform(movie_data['Actor 2'])\n",
    "transform_data['Actor 3'] = labelencoder.fit_transform(movie_data['Actor 3'])"
   ]
  },
  {
   "cell_type": "code",
   "execution_count": 98,
   "id": "be75ce64",
   "metadata": {},
   "outputs": [],
   "source": [
    "transform_data['Genre'] = labelencoder.fit_transform(movie_data['Genre'].apply(lambda x: ', '.join(x)))"
   ]
  },
  {
   "cell_type": "code",
   "execution_count": 99,
   "id": "f7cc52ef",
   "metadata": {},
   "outputs": [
    {
     "data": {
      "text/html": [
       "<div>\n",
       "<style scoped>\n",
       "    .dataframe tbody tr th:only-of-type {\n",
       "        vertical-align: middle;\n",
       "    }\n",
       "\n",
       "    .dataframe tbody tr th {\n",
       "        vertical-align: top;\n",
       "    }\n",
       "\n",
       "    .dataframe thead th {\n",
       "        text-align: right;\n",
       "    }\n",
       "</style>\n",
       "<table border=\"1\" class=\"dataframe\">\n",
       "  <thead>\n",
       "    <tr style=\"text-align: right;\">\n",
       "      <th></th>\n",
       "      <th>Year</th>\n",
       "      <th>Duration</th>\n",
       "      <th>Genre</th>\n",
       "      <th>Rating</th>\n",
       "      <th>Votes</th>\n",
       "      <th>Director</th>\n",
       "      <th>Actor 1</th>\n",
       "      <th>Actor 2</th>\n",
       "      <th>Actor 3</th>\n",
       "    </tr>\n",
       "  </thead>\n",
       "  <tbody>\n",
       "    <tr>\n",
       "      <th>1</th>\n",
       "      <td>2019</td>\n",
       "      <td>109</td>\n",
       "      <td>252</td>\n",
       "      <td>7.0</td>\n",
       "      <td>8</td>\n",
       "      <td>755</td>\n",
       "      <td>1686</td>\n",
       "      <td>2725</td>\n",
       "      <td>373</td>\n",
       "    </tr>\n",
       "    <tr>\n",
       "      <th>3</th>\n",
       "      <td>2019</td>\n",
       "      <td>110</td>\n",
       "      <td>205</td>\n",
       "      <td>4.4</td>\n",
       "      <td>35</td>\n",
       "      <td>1637</td>\n",
       "      <td>1500</td>\n",
       "      <td>865</td>\n",
       "      <td>2543</td>\n",
       "    </tr>\n",
       "    <tr>\n",
       "      <th>5</th>\n",
       "      <td>1997</td>\n",
       "      <td>147</td>\n",
       "      <td>175</td>\n",
       "      <td>4.7</td>\n",
       "      <td>827</td>\n",
       "      <td>1881</td>\n",
       "      <td>481</td>\n",
       "      <td>84</td>\n",
       "      <td>2422</td>\n",
       "    </tr>\n",
       "    <tr>\n",
       "      <th>6</th>\n",
       "      <td>2005</td>\n",
       "      <td>142</td>\n",
       "      <td>315</td>\n",
       "      <td>7.4</td>\n",
       "      <td>1086</td>\n",
       "      <td>2486</td>\n",
       "      <td>878</td>\n",
       "      <td>1346</td>\n",
       "      <td>2996</td>\n",
       "    </tr>\n",
       "    <tr>\n",
       "      <th>8</th>\n",
       "      <td>2012</td>\n",
       "      <td>82</td>\n",
       "      <td>351</td>\n",
       "      <td>5.6</td>\n",
       "      <td>326</td>\n",
       "      <td>161</td>\n",
       "      <td>2385</td>\n",
       "      <td>1416</td>\n",
       "      <td>1189</td>\n",
       "    </tr>\n",
       "  </tbody>\n",
       "</table>\n",
       "</div>"
      ],
      "text/plain": [
       "   Year  Duration  Genre  Rating  Votes  Director  Actor 1  Actor 2  Actor 3\n",
       "1  2019       109    252     7.0      8       755     1686     2725      373\n",
       "3  2019       110    205     4.4     35      1637     1500      865     2543\n",
       "5  1997       147    175     4.7    827      1881      481       84     2422\n",
       "6  2005       142    315     7.4   1086      2486      878     1346     2996\n",
       "8  2012        82    351     5.6    326       161     2385     1416     1189"
      ]
     },
     "execution_count": 99,
     "metadata": {},
     "output_type": "execute_result"
    }
   ],
   "source": [
    "transform_data.head()"
   ]
  },
  {
   "cell_type": "code",
   "execution_count": 100,
   "id": "73c6a8d4",
   "metadata": {},
   "outputs": [
    {
     "data": {
      "text/html": [
       "<div>\n",
       "<style scoped>\n",
       "    .dataframe tbody tr th:only-of-type {\n",
       "        vertical-align: middle;\n",
       "    }\n",
       "\n",
       "    .dataframe tbody tr th {\n",
       "        vertical-align: top;\n",
       "    }\n",
       "\n",
       "    .dataframe thead th {\n",
       "        text-align: right;\n",
       "    }\n",
       "</style>\n",
       "<table border=\"1\" class=\"dataframe\">\n",
       "  <thead>\n",
       "    <tr style=\"text-align: right;\">\n",
       "      <th></th>\n",
       "      <th>Year</th>\n",
       "      <th>Duration</th>\n",
       "      <th>Genre</th>\n",
       "      <th>Rating</th>\n",
       "      <th>Votes</th>\n",
       "      <th>Director</th>\n",
       "      <th>Actor 1</th>\n",
       "      <th>Actor 2</th>\n",
       "      <th>Actor 3</th>\n",
       "    </tr>\n",
       "  </thead>\n",
       "  <tbody>\n",
       "    <tr>\n",
       "      <th>0</th>\n",
       "      <td>0.980769</td>\n",
       "      <td>0.293333</td>\n",
       "      <td>0.607229</td>\n",
       "      <td>0.662921</td>\n",
       "      <td>0.000005</td>\n",
       "      <td>0.255499</td>\n",
       "      <td>0.698426</td>\n",
       "      <td>0.979511</td>\n",
       "      <td>0.123102</td>\n",
       "    </tr>\n",
       "    <tr>\n",
       "      <th>1</th>\n",
       "      <td>0.980769</td>\n",
       "      <td>0.296667</td>\n",
       "      <td>0.493976</td>\n",
       "      <td>0.370787</td>\n",
       "      <td>0.000051</td>\n",
       "      <td>0.553976</td>\n",
       "      <td>0.621375</td>\n",
       "      <td>0.310927</td>\n",
       "      <td>0.839274</td>\n",
       "    </tr>\n",
       "    <tr>\n",
       "      <th>2</th>\n",
       "      <td>0.769231</td>\n",
       "      <td>0.420000</td>\n",
       "      <td>0.421687</td>\n",
       "      <td>0.404494</td>\n",
       "      <td>0.001390</td>\n",
       "      <td>0.636548</td>\n",
       "      <td>0.199254</td>\n",
       "      <td>0.030194</td>\n",
       "      <td>0.799340</td>\n",
       "    </tr>\n",
       "    <tr>\n",
       "      <th>3</th>\n",
       "      <td>0.846154</td>\n",
       "      <td>0.403333</td>\n",
       "      <td>0.759036</td>\n",
       "      <td>0.707865</td>\n",
       "      <td>0.001828</td>\n",
       "      <td>0.841286</td>\n",
       "      <td>0.363712</td>\n",
       "      <td>0.483825</td>\n",
       "      <td>0.988779</td>\n",
       "    </tr>\n",
       "    <tr>\n",
       "      <th>4</th>\n",
       "      <td>0.913462</td>\n",
       "      <td>0.203333</td>\n",
       "      <td>0.845783</td>\n",
       "      <td>0.505618</td>\n",
       "      <td>0.000543</td>\n",
       "      <td>0.054484</td>\n",
       "      <td>0.987987</td>\n",
       "      <td>0.508986</td>\n",
       "      <td>0.392409</td>\n",
       "    </tr>\n",
       "  </tbody>\n",
       "</table>\n",
       "</div>"
      ],
      "text/plain": [
       "       Year  Duration     Genre    Rating     Votes  Director   Actor 1  \\\n",
       "0  0.980769  0.293333  0.607229  0.662921  0.000005  0.255499  0.698426   \n",
       "1  0.980769  0.296667  0.493976  0.370787  0.000051  0.553976  0.621375   \n",
       "2  0.769231  0.420000  0.421687  0.404494  0.001390  0.636548  0.199254   \n",
       "3  0.846154  0.403333  0.759036  0.707865  0.001828  0.841286  0.363712   \n",
       "4  0.913462  0.203333  0.845783  0.505618  0.000543  0.054484  0.987987   \n",
       "\n",
       "    Actor 2   Actor 3  \n",
       "0  0.979511  0.123102  \n",
       "1  0.310927  0.839274  \n",
       "2  0.030194  0.799340  \n",
       "3  0.483825  0.988779  \n",
       "4  0.508986  0.392409  "
      ]
     },
     "execution_count": 100,
     "metadata": {},
     "output_type": "execute_result"
    }
   ],
   "source": [
    "from sklearn.preprocessing import MinMaxScaler\n",
    "\n",
    "scaler = MinMaxScaler()\n",
    "sc_data = scaler.fit_transform(transform_data)\n",
    "sc_df = pd.DataFrame(sc_data,columns=transform_data.columns)\n",
    "\n",
    "sc_df.head()"
   ]
  },
  {
   "cell_type": "markdown",
   "id": "db67c93d",
   "metadata": {},
   "source": [
    "# Examine Correlation of Data  "
   ]
  },
  {
   "cell_type": "code",
   "execution_count": 101,
   "id": "d69d3ec1",
   "metadata": {},
   "outputs": [
    {
     "data": {
      "text/plain": [
       "Rating      1.000000\n",
       "Votes       0.134655\n",
       "Genre       0.122565\n",
       "Actor 2     0.038852\n",
       "Actor 3     0.031550\n",
       "Actor 1     0.025089\n",
       "Duration   -0.001801\n",
       "Director   -0.003678\n",
       "Year       -0.194990\n",
       "Name: Rating, dtype: float64"
      ]
     },
     "execution_count": 101,
     "metadata": {},
     "output_type": "execute_result"
    }
   ],
   "source": [
    "corr_df = transform_data.corr(numeric_only=True)\n",
    "corr_df['Rating'].sort_values(ascending=False)"
   ]
  },
  {
   "cell_type": "code",
   "execution_count": 102,
   "id": "9d37111f",
   "metadata": {},
   "outputs": [
    {
     "data": {
      "text/plain": [
       "<Axes: >"
      ]
     },
     "execution_count": 102,
     "metadata": {},
     "output_type": "execute_result"
    },
    {
     "data": {
      "image/png": "[encoded data removed]",
      "text/plain": [
       "<Figure size 640x480 with 2 Axes>"
      ]
     },
     "metadata": {},
     "output_type": "display_data"
    }
   ],
   "source": [
    "sns.heatmap(corr_df,annot=False,cmap=\"Reds\")"
   ]
  },
  {
   "cell_type": "markdown",
   "id": "2943e78e",
   "metadata": {},
   "source": [
    "# Model Training"
   ]
  },
  {
   "cell_type": "markdown",
   "id": "3621362c",
   "metadata": {},
   "source": [
    "# Importing model Libraries"
   ]
  },
  {
   "cell_type": "code",
   "execution_count": 103,
   "id": "aa9d2dbc",
   "metadata": {},
   "outputs": [],
   "source": [
    "from sklearn.model_selection import train_test_split\n",
    "from sklearn.linear_model import LinearRegression\n",
    "from sklearn.tree import DecisionTreeRegressor\n",
    "from sklearn.metrics import mean_squared_error,mean_absolute_error,r2_score"
   ]
  },
  {
   "cell_type": "markdown",
   "id": "3b01f2af",
   "metadata": {},
   "source": [
    "# Puting data except Rating data"
   ]
  },
  {
   "cell_type": "code",
   "execution_count": 104,
   "id": "d85c2bd5",
   "metadata": {},
   "outputs": [],
   "source": [
    "X = transform_data.drop(['Rating'],axis=1)"
   ]
  },
  {
   "cell_type": "markdown",
   "id": "e1da21a5",
   "metadata": {},
   "source": [
    "# Puting only Rating data"
   ]
  },
  {
   "cell_type": "code",
   "execution_count": 105,
   "id": "d6a82eed",
   "metadata": {},
   "outputs": [],
   "source": [
    "Y = transform_data['Rating']"
   ]
  },
  {
   "cell_type": "markdown",
   "id": "aec7e969",
   "metadata": {},
   "source": [
    "# Spliting data into test and train by using Sklearn library"
   ]
  },
  {
   "cell_type": "code",
   "execution_count": 106,
   "id": "68fb38c5",
   "metadata": {},
   "outputs": [
    {
     "data": {
      "text/html": [
       "<style>#sk-container-id-2 {color: black;background-color: white;}#sk-container-id-2 pre{padding: 0;}#sk-container-id-2 div.sk-toggleable {background-color: white;}#sk-container-id-2 label.sk-toggleable__label {cursor: pointer;display: block;width: 100%;margin-bottom: 0;padding: 0.3em;box-sizing: border-box;text-align: center;}#sk-container-id-2 label.sk-toggleable__label-arrow:before {content: \"▸\";float: left;margin-right: 0.25em;color: #696969;}#sk-container-id-2 label.sk-toggleable__label-arrow:hover:before {color: black;}#sk-container-id-2 div.sk-estimator:hover label.sk-toggleable__label-arrow:before {color: black;}#sk-container-id-2 div.sk-toggleable__content {max-height: 0;max-width: 0;overflow: hidden;text-align: left;background-color: #f0f8ff;}#sk-container-id-2 div.sk-toggleable__content pre {margin: 0.2em;color: black;border-radius: 0.25em;background-color: #f0f8ff;}#sk-container-id-2 input.sk-toggleable__control:checked~div.sk-toggleable__content {max-height: 200px;max-width: 100%;overflow: auto;}#sk-container-id-2 input.sk-toggleable__control:checked~label.sk-toggleable__label-arrow:before {content: \"▾\";}#sk-container-id-2 div.sk-estimator input.sk-toggleable__control:checked~label.sk-toggleable__label {background-color: #d4ebff;}#sk-container-id-2 div.sk-label input.sk-toggleable__control:checked~label.sk-toggleable__label {background-color: #d4ebff;}#sk-container-id-2 input.sk-hidden--visually {border: 0;clip: rect(1px 1px 1px 1px);clip: rect(1px, 1px, 1px, 1px);height: 1px;margin: -1px;overflow: hidden;padding: 0;position: absolute;width: 1px;}#sk-container-id-2 div.sk-estimator {font-family: monospace;background-color: #f0f8ff;border: 1px dotted black;border-radius: 0.25em;box-sizing: border-box;margin-bottom: 0.5em;}#sk-container-id-2 div.sk-estimator:hover {background-color: #d4ebff;}#sk-container-id-2 div.sk-parallel-item::after {content: \"\";width: 100%;border-bottom: 1px solid gray;flex-grow: 1;}#sk-container-id-2 div.sk-label:hover label.sk-toggleable__label {background-color: #d4ebff;}#sk-container-id-2 div.sk-serial::before {content: \"\";position: absolute;border-left: 1px solid gray;box-sizing: border-box;top: 0;bottom: 0;left: 50%;z-index: 0;}#sk-container-id-2 div.sk-serial {display: flex;flex-direction: column;align-items: center;background-color: white;padding-right: 0.2em;padding-left: 0.2em;position: relative;}#sk-container-id-2 div.sk-item {position: relative;z-index: 1;}#sk-container-id-2 div.sk-parallel {display: flex;align-items: stretch;justify-content: center;background-color: white;position: relative;}#sk-container-id-2 div.sk-item::before, #sk-container-id-2 div.sk-parallel-item::before {content: \"\";position: absolute;border-left: 1px solid gray;box-sizing: border-box;top: 0;bottom: 0;left: 50%;z-index: -1;}#sk-container-id-2 div.sk-parallel-item {display: flex;flex-direction: column;z-index: 1;position: relative;background-color: white;}#sk-container-id-2 div.sk-parallel-item:first-child::after {align-self: flex-end;width: 50%;}#sk-container-id-2 div.sk-parallel-item:last-child::after {align-self: flex-start;width: 50%;}#sk-container-id-2 div.sk-parallel-item:only-child::after {width: 0;}#sk-container-id-2 div.sk-dashed-wrapped {border: 1px dashed gray;margin: 0 0.4em 0.5em 0.4em;box-sizing: border-box;padding-bottom: 0.4em;background-color: white;}#sk-container-id-2 div.sk-label label {font-family: monospace;font-weight: bold;display: inline-block;line-height: 1.2em;}#sk-container-id-2 div.sk-label-container {text-align: center;}#sk-container-id-2 div.sk-container {/* jupyter's `normalize.less` sets `[hidden] { display: none; }` but bootstrap.min.css set `[hidden] { display: none !important; }` so we also need the `!important` here to be able to override the default hidden behavior on the sphinx rendered scikit-learn.org. See: https://github.com/scikit-learn/scikit-learn/issues/21755 */display: inline-block !important;position: relative;}#sk-container-id-2 div.sk-text-repr-fallback {display: none;}</style><div id=\"sk-container-id-2\" class=\"sk-top-container\"><div class=\"sk-text-repr-fallback\"><pre>LinearRegression()</pre><b>In a Jupyter environment, please rerun this cell to show the HTML representation or trust the notebook. <br />On GitHub, the HTML representation is unable to render, please try loading this page with nbviewer.org.</b></div><div class=\"sk-container\" hidden><div class=\"sk-item\"><div class=\"sk-estimator sk-toggleable\"><input class=\"sk-toggleable__control sk-hidden--visually\" id=\"sk-estimator-id-2\" type=\"checkbox\" checked><label for=\"sk-estimator-id-2\" class=\"sk-toggleable__label sk-toggleable__label-arrow\">LinearRegression</label><div class=\"sk-toggleable__content\"><pre>LinearRegression()</pre></div></div></div></div></div>"
      ],
      "text/plain": [
       "LinearRegression()"
      ]
     },
     "execution_count": 106,
     "metadata": {},
     "output_type": "execute_result"
    }
   ],
   "source": [
    "X_train,X_test,Y_train,Y_test = train_test_split(X,Y,test_size=0.3,random_state=42)\n",
    "\n",
    "model = LinearRegression()\n",
    "model.fit(X_train,Y_train)"
   ]
  },
  {
   "cell_type": "code",
   "execution_count": 107,
   "id": "9d7ccac2",
   "metadata": {},
   "outputs": [],
   "source": [
    "X_test = np.array(X_test)    "
   ]
  },
  {
   "cell_type": "code",
   "execution_count": 108,
   "id": "037e388b",
   "metadata": {},
   "outputs": [
    {
     "name": "stderr",
     "output_type": "stream",
     "text": [
      "C:\\Users\\aryab\\anaconda3\\Lib\\site-packages\\sklearn\\base.py:439: UserWarning: X does not have valid feature names, but LinearRegression was fitted with feature names\n",
      "  warnings.warn(\n"
     ]
    },
    {
     "data": {
      "text/plain": [
       "array([6.38173569, 6.27438422, 6.24148256, ..., 5.6990634 , 6.25823896,\n",
       "       6.09526622])"
      ]
     },
     "execution_count": 108,
     "metadata": {},
     "output_type": "execute_result"
    }
   ],
   "source": [
    "Y_pred = model.predict(X_test)\n",
    "Y_pred"
   ]
  },
  {
   "cell_type": "code",
   "execution_count": 109,
   "id": "fc933cc2",
   "metadata": {},
   "outputs": [
    {
     "name": "stdout",
     "output_type": "stream",
     "text": [
      "R2 score:  0.08483347672034813\n",
      "Mean squared error:  1.6972873264361998\n",
      "Mean absolute error:  1.0286370452288054\n"
     ]
    }
   ],
   "source": [
    "print('R2 score: ',r2_score(Y_test,Y_pred))\n",
    "print('Mean squared error: ',mean_squared_error(Y_test,Y_pred))\n",
    "print('Mean absolute error: ',mean_absolute_error(Y_test,Y_pred))"
   ]
  },
  {
   "cell_type": "code",
   "execution_count": 110,
   "id": "7d02e0d9",
   "metadata": {},
   "outputs": [
    {
     "name": "stdout",
     "output_type": "stream",
     "text": [
      "6241     7.4\n",
      "3321     4.9\n",
      "6117     6.5\n",
      "5975     5.7\n",
      "6653     7.0\n",
      "        ... \n",
      "14566    3.5\n",
      "10966    5.2\n",
      "10168    2.7\n",
      "14796    4.9\n",
      "2785     8.0\n",
      "Name: Rating, Length: 2268, dtype: float64\n"
     ]
    }
   ],
   "source": [
    "print(Y_test)"
   ]
  }
 ],
 "metadata": {
  "kernelspec": {
   "display_name": "Python 3 (ipykernel)",
   "language": "python",
   "name": "python3"
  },
  "language_info": {
   "codemirror_mode": {
    "name": "ipython",
    "version": 3
   },
   "file_extension": ".py",
   "mimetype": "text/x-python",
   "name": "python",
   "nbconvert_exporter": "python",
   "pygments_lexer": "ipython3",
   "version": "3.11.7"
  }
 },
 "nbformat": 4,
 "nbformat_minor": 5
}
